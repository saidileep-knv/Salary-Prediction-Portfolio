{
  "nbformat": 4,
  "nbformat_minor": 0,
  "metadata": {
    "colab": {
      "name": "SalaryPrediction.ipynb",
      "provenance": [],
      "collapsed_sections": [],
      "machine_shape": "hm",
      "include_colab_link": true
    },
    "kernelspec": {
      "name": "python3",
      "display_name": "Python 3"
    },
    "accelerator": "GPU"
  },
  "cells": [
    {
      "cell_type": "markdown",
      "metadata": {
        "id": "view-in-github",
        "colab_type": "text"
      },
      "source": [
        "<a href=\"https://colab.research.google.com/github/saidileep-knv/Salary-Prediction-Portfolio/blob/master/SalaryPrediction.ipynb\" target=\"_parent\"><img src=\"https://colab.research.google.com/assets/colab-badge.svg\" alt=\"Open In Colab\"/></a>"
      ]
    },
    {
      "cell_type": "markdown",
      "metadata": {
        "id": "d7oebth4G_yh",
        "colab_type": "text"
      },
      "source": [
        "\n",
        "\n",
        "> Indented block\n",
        "\n",
        "\n",
        "\n",
        "#SALARY PREDICTION BASED ON JOB DESCRIPTION\n",
        "\n"
      ]
    },
    {
      "cell_type": "markdown",
      "metadata": {
        "id": "sUcMjj6zHMYY",
        "colab_type": "text"
      },
      "source": [
        "**Author:** Naga Venkata Saidileep Korlapati\n",
        "\n",
        "**Email:** saidileep.knv@tamu.edu\n",
        "\n",
        "\n",
        "---\n",
        "\n"
      ]
    },
    {
      "cell_type": "markdown",
      "metadata": {
        "id": "cRGrnPSWIXY1",
        "colab_type": "text"
      },
      "source": [
        "**----Define the Problem----**"
      ]
    },
    {
      "cell_type": "markdown",
      "metadata": {
        "id": "GiPcEOOoFkUr",
        "colab_type": "text"
      },
      "source": [
        "\n",
        "Predicting the salary for a job position is crucial for a business' HR & talent function for optimizing compensation strategy and talent retention in a highly competetive labour market. The aim of this project is to build a salary prediction model for existing and future job seekers by examining an existing dataset of job postings.\n",
        "\n",
        "The analysis is aimed at explaining every step of the process from defining the problem, discovering dataset, developing model and deploying into production. The model applies data transformation and machine learning on features such as work experience, Job Type, Majors, Industry Type, Degree and Miles from metropolis. The final aim is to predict salary for a job posting based on these available features.\n",
        "\n",
        "The data provided to us has been split in training and testing sets. The files included are training data (train_features_df), testing data (test_features_df) and a Target set (train_salaries_df) containing dependent salary feature.\n",
        "\n",
        "The dataset includes available features or labelled columns for analysis as follows:\n",
        "\n",
        "*   **jobId:** Given Job ID for the role\n",
        "*   **companyId:** Company ID for the respective jobId advertised\n",
        "*   **degree:** Applicant's qualification/degree\n",
        "*   **major:** Degree Specialization\n",
        "*   **industry:** Job ID's categorized industry such as Oil, Auto, Health, Finance etc.\n",
        "*   **yearsExperience:** Requried Experience for the role\n",
        "*   **milesFromMetropolis:** Distance of the job location in miles from the nearest metropolitan city\n",
        "*   **salary:** In x1000 dollars of the respective jobId\n",
        "\n",
        "\n",
        " \n",
        "\n",
        "\n"
      ]
    },
    {
      "cell_type": "code",
      "metadata": {
        "id": "U4GkqEEa0UsM",
        "colab_type": "code",
        "colab": {}
      },
      "source": [
        "from google.colab import drive\n",
        "drive.mount('/content/gdrive')"
      ],
      "execution_count": null,
      "outputs": []
    },
    {
      "cell_type": "code",
      "metadata": {
        "id": "DQNkXL1E0dWr",
        "colab_type": "code",
        "colab": {}
      },
      "source": [
        "import os\n",
        "os.chdir(\"./gdrive/My Drive/SalaryPrediction\")"
      ],
      "execution_count": 2,
      "outputs": []
    },
    {
      "cell_type": "code",
      "metadata": {
        "id": "Vn0jaBsT3RCY",
        "colab_type": "code",
        "colab": {}
      },
      "source": [
        "#import the necessary libraries\n",
        "import pandas as pd\n",
        "import numpy as np\n",
        "import matplotlib.pyplot as plt\n",
        "%matplotlib inline\n",
        "import seaborn as sns\n",
        "from pprint import pprint\n",
        "from sklearn.utils import shuffle\n",
        "from sklearn.linear_model import LinearRegression\n",
        "from sklearn.linear_model import Ridge\n",
        "from sklearn.linear_model import RidgeCV\n",
        "from sklearn.ensemble import RandomForestRegressor\n",
        "from sklearn.ensemble import GradientBoostingRegressor\n",
        "from sklearn.ensemble import VotingRegressor\n",
        "from sklearn.pipeline import make_pipeline\n",
        "from sklearn.metrics import mean_squared_error\n",
        "from sklearn.metrics import r2_score\n",
        "from sklearn.model_selection import train_test_split\n",
        "from sklearn.model_selection import cross_val_score\n",
        "from sklearn.model_selection import RandomizedSearchCV\n",
        "from sklearn.decomposition import PCA\n",
        "from sklearn.preprocessing import PolynomialFeatures\n",
        "from sklearn.preprocessing import StandardScaler\n",
        "from sklearn.pipeline import Pipeline\n",
        "from sklearn.externals import joblib"
      ],
      "execution_count": 124,
      "outputs": []
    },
    {
      "cell_type": "markdown",
      "metadata": {
        "id": "gb9FiyUAxTrB",
        "colab_type": "text"
      },
      "source": [
        "**----Load the data----**"
      ]
    },
    {
      "cell_type": "code",
      "metadata": {
        "id": "p1318vMtEZLZ",
        "colab_type": "code",
        "colab": {}
      },
      "source": [
        "train_feature_df = pd.read_csv(\"train_features.csv\")\n",
        "train_target_df = pd.read_csv(\"train_salaries.csv\")\n",
        "test_feature_df = pd.read_csv(\"test_features.csv\")"
      ],
      "execution_count": 4,
      "outputs": []
    },
    {
      "cell_type": "markdown",
      "metadata": {
        "id": "9YMVSZcLxWyJ",
        "colab_type": "text"
      },
      "source": [
        "**----Examine the data----**"
      ]
    },
    {
      "cell_type": "code",
      "metadata": {
        "id": "ISMFfwsB5XDW",
        "colab_type": "code",
        "colab": {
          "base_uri": "https://localhost:8080/",
          "height": 357
        },
        "outputId": "011e39b9-6c89-40fc-b00c-8351ba36fb26"
      },
      "source": [
        "train_feature_df.head(10)"
      ],
      "execution_count": 5,
      "outputs": [
        {
          "output_type": "execute_result",
          "data": {
            "text/html": [
              "<div>\n",
              "<style scoped>\n",
              "    .dataframe tbody tr th:only-of-type {\n",
              "        vertical-align: middle;\n",
              "    }\n",
              "\n",
              "    .dataframe tbody tr th {\n",
              "        vertical-align: top;\n",
              "    }\n",
              "\n",
              "    .dataframe thead th {\n",
              "        text-align: right;\n",
              "    }\n",
              "</style>\n",
              "<table border=\"1\" class=\"dataframe\">\n",
              "  <thead>\n",
              "    <tr style=\"text-align: right;\">\n",
              "      <th></th>\n",
              "      <th>jobId</th>\n",
              "      <th>companyId</th>\n",
              "      <th>jobType</th>\n",
              "      <th>degree</th>\n",
              "      <th>major</th>\n",
              "      <th>industry</th>\n",
              "      <th>yearsExperience</th>\n",
              "      <th>milesFromMetropolis</th>\n",
              "    </tr>\n",
              "  </thead>\n",
              "  <tbody>\n",
              "    <tr>\n",
              "      <th>0</th>\n",
              "      <td>JOB1362684407687</td>\n",
              "      <td>COMP37</td>\n",
              "      <td>CFO</td>\n",
              "      <td>MASTERS</td>\n",
              "      <td>MATH</td>\n",
              "      <td>HEALTH</td>\n",
              "      <td>10</td>\n",
              "      <td>83</td>\n",
              "    </tr>\n",
              "    <tr>\n",
              "      <th>1</th>\n",
              "      <td>JOB1362684407688</td>\n",
              "      <td>COMP19</td>\n",
              "      <td>CEO</td>\n",
              "      <td>HIGH_SCHOOL</td>\n",
              "      <td>NONE</td>\n",
              "      <td>WEB</td>\n",
              "      <td>3</td>\n",
              "      <td>73</td>\n",
              "    </tr>\n",
              "    <tr>\n",
              "      <th>2</th>\n",
              "      <td>JOB1362684407689</td>\n",
              "      <td>COMP52</td>\n",
              "      <td>VICE_PRESIDENT</td>\n",
              "      <td>DOCTORAL</td>\n",
              "      <td>PHYSICS</td>\n",
              "      <td>HEALTH</td>\n",
              "      <td>10</td>\n",
              "      <td>38</td>\n",
              "    </tr>\n",
              "    <tr>\n",
              "      <th>3</th>\n",
              "      <td>JOB1362684407690</td>\n",
              "      <td>COMP38</td>\n",
              "      <td>MANAGER</td>\n",
              "      <td>DOCTORAL</td>\n",
              "      <td>CHEMISTRY</td>\n",
              "      <td>AUTO</td>\n",
              "      <td>8</td>\n",
              "      <td>17</td>\n",
              "    </tr>\n",
              "    <tr>\n",
              "      <th>4</th>\n",
              "      <td>JOB1362684407691</td>\n",
              "      <td>COMP7</td>\n",
              "      <td>VICE_PRESIDENT</td>\n",
              "      <td>BACHELORS</td>\n",
              "      <td>PHYSICS</td>\n",
              "      <td>FINANCE</td>\n",
              "      <td>8</td>\n",
              "      <td>16</td>\n",
              "    </tr>\n",
              "    <tr>\n",
              "      <th>5</th>\n",
              "      <td>JOB1362684407692</td>\n",
              "      <td>COMP15</td>\n",
              "      <td>MANAGER</td>\n",
              "      <td>DOCTORAL</td>\n",
              "      <td>COMPSCI</td>\n",
              "      <td>FINANCE</td>\n",
              "      <td>2</td>\n",
              "      <td>31</td>\n",
              "    </tr>\n",
              "    <tr>\n",
              "      <th>6</th>\n",
              "      <td>JOB1362684407693</td>\n",
              "      <td>COMP15</td>\n",
              "      <td>CFO</td>\n",
              "      <td>NONE</td>\n",
              "      <td>NONE</td>\n",
              "      <td>HEALTH</td>\n",
              "      <td>23</td>\n",
              "      <td>24</td>\n",
              "    </tr>\n",
              "    <tr>\n",
              "      <th>7</th>\n",
              "      <td>JOB1362684407694</td>\n",
              "      <td>COMP24</td>\n",
              "      <td>JUNIOR</td>\n",
              "      <td>BACHELORS</td>\n",
              "      <td>CHEMISTRY</td>\n",
              "      <td>EDUCATION</td>\n",
              "      <td>9</td>\n",
              "      <td>70</td>\n",
              "    </tr>\n",
              "    <tr>\n",
              "      <th>8</th>\n",
              "      <td>JOB1362684407695</td>\n",
              "      <td>COMP20</td>\n",
              "      <td>JANITOR</td>\n",
              "      <td>HIGH_SCHOOL</td>\n",
              "      <td>NONE</td>\n",
              "      <td>EDUCATION</td>\n",
              "      <td>1</td>\n",
              "      <td>54</td>\n",
              "    </tr>\n",
              "    <tr>\n",
              "      <th>9</th>\n",
              "      <td>JOB1362684407696</td>\n",
              "      <td>COMP41</td>\n",
              "      <td>VICE_PRESIDENT</td>\n",
              "      <td>BACHELORS</td>\n",
              "      <td>CHEMISTRY</td>\n",
              "      <td>AUTO</td>\n",
              "      <td>17</td>\n",
              "      <td>68</td>\n",
              "    </tr>\n",
              "  </tbody>\n",
              "</table>\n",
              "</div>"
            ],
            "text/plain": [
              "              jobId companyId  ... yearsExperience milesFromMetropolis\n",
              "0  JOB1362684407687    COMP37  ...              10                  83\n",
              "1  JOB1362684407688    COMP19  ...               3                  73\n",
              "2  JOB1362684407689    COMP52  ...              10                  38\n",
              "3  JOB1362684407690    COMP38  ...               8                  17\n",
              "4  JOB1362684407691     COMP7  ...               8                  16\n",
              "5  JOB1362684407692    COMP15  ...               2                  31\n",
              "6  JOB1362684407693    COMP15  ...              23                  24\n",
              "7  JOB1362684407694    COMP24  ...               9                  70\n",
              "8  JOB1362684407695    COMP20  ...               1                  54\n",
              "9  JOB1362684407696    COMP41  ...              17                  68\n",
              "\n",
              "[10 rows x 8 columns]"
            ]
          },
          "metadata": {
            "tags": []
          },
          "execution_count": 5
        }
      ]
    },
    {
      "cell_type": "code",
      "metadata": {
        "id": "ZRu51yB95bXB",
        "colab_type": "code",
        "colab": {
          "base_uri": "https://localhost:8080/",
          "height": 357
        },
        "outputId": "7b643382-36e7-4d6d-fcce-42ab0be2c3f0"
      },
      "source": [
        "train_target_df.head(10)"
      ],
      "execution_count": 6,
      "outputs": [
        {
          "output_type": "execute_result",
          "data": {
            "text/html": [
              "<div>\n",
              "<style scoped>\n",
              "    .dataframe tbody tr th:only-of-type {\n",
              "        vertical-align: middle;\n",
              "    }\n",
              "\n",
              "    .dataframe tbody tr th {\n",
              "        vertical-align: top;\n",
              "    }\n",
              "\n",
              "    .dataframe thead th {\n",
              "        text-align: right;\n",
              "    }\n",
              "</style>\n",
              "<table border=\"1\" class=\"dataframe\">\n",
              "  <thead>\n",
              "    <tr style=\"text-align: right;\">\n",
              "      <th></th>\n",
              "      <th>jobId</th>\n",
              "      <th>salary</th>\n",
              "    </tr>\n",
              "  </thead>\n",
              "  <tbody>\n",
              "    <tr>\n",
              "      <th>0</th>\n",
              "      <td>JOB1362684407687</td>\n",
              "      <td>130</td>\n",
              "    </tr>\n",
              "    <tr>\n",
              "      <th>1</th>\n",
              "      <td>JOB1362684407688</td>\n",
              "      <td>101</td>\n",
              "    </tr>\n",
              "    <tr>\n",
              "      <th>2</th>\n",
              "      <td>JOB1362684407689</td>\n",
              "      <td>137</td>\n",
              "    </tr>\n",
              "    <tr>\n",
              "      <th>3</th>\n",
              "      <td>JOB1362684407690</td>\n",
              "      <td>142</td>\n",
              "    </tr>\n",
              "    <tr>\n",
              "      <th>4</th>\n",
              "      <td>JOB1362684407691</td>\n",
              "      <td>163</td>\n",
              "    </tr>\n",
              "    <tr>\n",
              "      <th>5</th>\n",
              "      <td>JOB1362684407692</td>\n",
              "      <td>113</td>\n",
              "    </tr>\n",
              "    <tr>\n",
              "      <th>6</th>\n",
              "      <td>JOB1362684407693</td>\n",
              "      <td>178</td>\n",
              "    </tr>\n",
              "    <tr>\n",
              "      <th>7</th>\n",
              "      <td>JOB1362684407694</td>\n",
              "      <td>73</td>\n",
              "    </tr>\n",
              "    <tr>\n",
              "      <th>8</th>\n",
              "      <td>JOB1362684407695</td>\n",
              "      <td>31</td>\n",
              "    </tr>\n",
              "    <tr>\n",
              "      <th>9</th>\n",
              "      <td>JOB1362684407696</td>\n",
              "      <td>104</td>\n",
              "    </tr>\n",
              "  </tbody>\n",
              "</table>\n",
              "</div>"
            ],
            "text/plain": [
              "              jobId  salary\n",
              "0  JOB1362684407687     130\n",
              "1  JOB1362684407688     101\n",
              "2  JOB1362684407689     137\n",
              "3  JOB1362684407690     142\n",
              "4  JOB1362684407691     163\n",
              "5  JOB1362684407692     113\n",
              "6  JOB1362684407693     178\n",
              "7  JOB1362684407694      73\n",
              "8  JOB1362684407695      31\n",
              "9  JOB1362684407696     104"
            ]
          },
          "metadata": {
            "tags": []
          },
          "execution_count": 6
        }
      ]
    },
    {
      "cell_type": "code",
      "metadata": {
        "id": "4y4mv1R15qDB",
        "colab_type": "code",
        "colab": {
          "base_uri": "https://localhost:8080/",
          "height": 357
        },
        "outputId": "bcd993cc-3dcf-4c97-b5b6-3b051c3d9452"
      },
      "source": [
        "test_feature_df.head(10)"
      ],
      "execution_count": 7,
      "outputs": [
        {
          "output_type": "execute_result",
          "data": {
            "text/html": [
              "<div>\n",
              "<style scoped>\n",
              "    .dataframe tbody tr th:only-of-type {\n",
              "        vertical-align: middle;\n",
              "    }\n",
              "\n",
              "    .dataframe tbody tr th {\n",
              "        vertical-align: top;\n",
              "    }\n",
              "\n",
              "    .dataframe thead th {\n",
              "        text-align: right;\n",
              "    }\n",
              "</style>\n",
              "<table border=\"1\" class=\"dataframe\">\n",
              "  <thead>\n",
              "    <tr style=\"text-align: right;\">\n",
              "      <th></th>\n",
              "      <th>jobId</th>\n",
              "      <th>companyId</th>\n",
              "      <th>jobType</th>\n",
              "      <th>degree</th>\n",
              "      <th>major</th>\n",
              "      <th>industry</th>\n",
              "      <th>yearsExperience</th>\n",
              "      <th>milesFromMetropolis</th>\n",
              "    </tr>\n",
              "  </thead>\n",
              "  <tbody>\n",
              "    <tr>\n",
              "      <th>0</th>\n",
              "      <td>JOB1362685407687</td>\n",
              "      <td>COMP33</td>\n",
              "      <td>MANAGER</td>\n",
              "      <td>HIGH_SCHOOL</td>\n",
              "      <td>NONE</td>\n",
              "      <td>HEALTH</td>\n",
              "      <td>22</td>\n",
              "      <td>73</td>\n",
              "    </tr>\n",
              "    <tr>\n",
              "      <th>1</th>\n",
              "      <td>JOB1362685407688</td>\n",
              "      <td>COMP13</td>\n",
              "      <td>JUNIOR</td>\n",
              "      <td>NONE</td>\n",
              "      <td>NONE</td>\n",
              "      <td>AUTO</td>\n",
              "      <td>20</td>\n",
              "      <td>47</td>\n",
              "    </tr>\n",
              "    <tr>\n",
              "      <th>2</th>\n",
              "      <td>JOB1362685407689</td>\n",
              "      <td>COMP10</td>\n",
              "      <td>CTO</td>\n",
              "      <td>MASTERS</td>\n",
              "      <td>BIOLOGY</td>\n",
              "      <td>HEALTH</td>\n",
              "      <td>17</td>\n",
              "      <td>9</td>\n",
              "    </tr>\n",
              "    <tr>\n",
              "      <th>3</th>\n",
              "      <td>JOB1362685407690</td>\n",
              "      <td>COMP21</td>\n",
              "      <td>MANAGER</td>\n",
              "      <td>HIGH_SCHOOL</td>\n",
              "      <td>NONE</td>\n",
              "      <td>OIL</td>\n",
              "      <td>14</td>\n",
              "      <td>96</td>\n",
              "    </tr>\n",
              "    <tr>\n",
              "      <th>4</th>\n",
              "      <td>JOB1362685407691</td>\n",
              "      <td>COMP36</td>\n",
              "      <td>JUNIOR</td>\n",
              "      <td>DOCTORAL</td>\n",
              "      <td>BIOLOGY</td>\n",
              "      <td>OIL</td>\n",
              "      <td>10</td>\n",
              "      <td>44</td>\n",
              "    </tr>\n",
              "    <tr>\n",
              "      <th>5</th>\n",
              "      <td>JOB1362685407692</td>\n",
              "      <td>COMP40</td>\n",
              "      <td>CTO</td>\n",
              "      <td>MASTERS</td>\n",
              "      <td>COMPSCI</td>\n",
              "      <td>FINANCE</td>\n",
              "      <td>6</td>\n",
              "      <td>23</td>\n",
              "    </tr>\n",
              "    <tr>\n",
              "      <th>6</th>\n",
              "      <td>JOB1362685407693</td>\n",
              "      <td>COMP32</td>\n",
              "      <td>SENIOR</td>\n",
              "      <td>MASTERS</td>\n",
              "      <td>COMPSCI</td>\n",
              "      <td>SERVICE</td>\n",
              "      <td>6</td>\n",
              "      <td>32</td>\n",
              "    </tr>\n",
              "    <tr>\n",
              "      <th>7</th>\n",
              "      <td>JOB1362685407694</td>\n",
              "      <td>COMP11</td>\n",
              "      <td>CEO</td>\n",
              "      <td>BACHELORS</td>\n",
              "      <td>BIOLOGY</td>\n",
              "      <td>SERVICE</td>\n",
              "      <td>9</td>\n",
              "      <td>73</td>\n",
              "    </tr>\n",
              "    <tr>\n",
              "      <th>8</th>\n",
              "      <td>JOB1362685407695</td>\n",
              "      <td>COMP39</td>\n",
              "      <td>MANAGER</td>\n",
              "      <td>DOCTORAL</td>\n",
              "      <td>PHYSICS</td>\n",
              "      <td>HEALTH</td>\n",
              "      <td>6</td>\n",
              "      <td>78</td>\n",
              "    </tr>\n",
              "    <tr>\n",
              "      <th>9</th>\n",
              "      <td>JOB1362685407696</td>\n",
              "      <td>COMP22</td>\n",
              "      <td>VICE_PRESIDENT</td>\n",
              "      <td>NONE</td>\n",
              "      <td>NONE</td>\n",
              "      <td>AUTO</td>\n",
              "      <td>23</td>\n",
              "      <td>97</td>\n",
              "    </tr>\n",
              "  </tbody>\n",
              "</table>\n",
              "</div>"
            ],
            "text/plain": [
              "              jobId companyId  ... yearsExperience milesFromMetropolis\n",
              "0  JOB1362685407687    COMP33  ...              22                  73\n",
              "1  JOB1362685407688    COMP13  ...              20                  47\n",
              "2  JOB1362685407689    COMP10  ...              17                   9\n",
              "3  JOB1362685407690    COMP21  ...              14                  96\n",
              "4  JOB1362685407691    COMP36  ...              10                  44\n",
              "5  JOB1362685407692    COMP40  ...               6                  23\n",
              "6  JOB1362685407693    COMP32  ...               6                  32\n",
              "7  JOB1362685407694    COMP11  ...               9                  73\n",
              "8  JOB1362685407695    COMP39  ...               6                  78\n",
              "9  JOB1362685407696    COMP22  ...              23                  97\n",
              "\n",
              "[10 rows x 8 columns]"
            ]
          },
          "metadata": {
            "tags": []
          },
          "execution_count": 7
        }
      ]
    },
    {
      "cell_type": "markdown",
      "metadata": {
        "id": "hGOs9fdUEsuM",
        "colab_type": "text"
      },
      "source": [
        "**Use .info() method to see length and dtypes of the data**"
      ]
    },
    {
      "cell_type": "code",
      "metadata": {
        "id": "q8hJ7jjt57tC",
        "colab_type": "code",
        "colab": {
          "base_uri": "https://localhost:8080/",
          "height": 281
        },
        "outputId": "3cf52dfe-df32-4ae9-9973-1247c61392bc"
      },
      "source": [
        "train_feature_df.info()"
      ],
      "execution_count": 8,
      "outputs": [
        {
          "output_type": "stream",
          "text": [
            "<class 'pandas.core.frame.DataFrame'>\n",
            "RangeIndex: 1000000 entries, 0 to 999999\n",
            "Data columns (total 8 columns):\n",
            " #   Column               Non-Null Count    Dtype \n",
            "---  ------               --------------    ----- \n",
            " 0   jobId                1000000 non-null  object\n",
            " 1   companyId            1000000 non-null  object\n",
            " 2   jobType              1000000 non-null  object\n",
            " 3   degree               1000000 non-null  object\n",
            " 4   major                1000000 non-null  object\n",
            " 5   industry             1000000 non-null  object\n",
            " 6   yearsExperience      1000000 non-null  int64 \n",
            " 7   milesFromMetropolis  1000000 non-null  int64 \n",
            "dtypes: int64(2), object(6)\n",
            "memory usage: 61.0+ MB\n"
          ],
          "name": "stdout"
        }
      ]
    },
    {
      "cell_type": "code",
      "metadata": {
        "id": "RheudgrgE8zx",
        "colab_type": "code",
        "colab": {
          "base_uri": "https://localhost:8080/",
          "height": 175
        },
        "outputId": "ff1905ce-ac59-4073-e4aa-09bd76e6fa3a"
      },
      "source": [
        "train_target_df.info()"
      ],
      "execution_count": 9,
      "outputs": [
        {
          "output_type": "stream",
          "text": [
            "<class 'pandas.core.frame.DataFrame'>\n",
            "RangeIndex: 1000000 entries, 0 to 999999\n",
            "Data columns (total 2 columns):\n",
            " #   Column  Non-Null Count    Dtype \n",
            "---  ------  --------------    ----- \n",
            " 0   jobId   1000000 non-null  object\n",
            " 1   salary  1000000 non-null  int64 \n",
            "dtypes: int64(1), object(1)\n",
            "memory usage: 15.3+ MB\n"
          ],
          "name": "stdout"
        }
      ]
    },
    {
      "cell_type": "code",
      "metadata": {
        "id": "6tBKVQLoFBIv",
        "colab_type": "code",
        "colab": {
          "base_uri": "https://localhost:8080/",
          "height": 281
        },
        "outputId": "92900471-1d39-4e08-9e01-c600e61b71c7"
      },
      "source": [
        "test_feature_df.info()"
      ],
      "execution_count": 10,
      "outputs": [
        {
          "output_type": "stream",
          "text": [
            "<class 'pandas.core.frame.DataFrame'>\n",
            "RangeIndex: 1000000 entries, 0 to 999999\n",
            "Data columns (total 8 columns):\n",
            " #   Column               Non-Null Count    Dtype \n",
            "---  ------               --------------    ----- \n",
            " 0   jobId                1000000 non-null  object\n",
            " 1   companyId            1000000 non-null  object\n",
            " 2   jobType              1000000 non-null  object\n",
            " 3   degree               1000000 non-null  object\n",
            " 4   major                1000000 non-null  object\n",
            " 5   industry             1000000 non-null  object\n",
            " 6   yearsExperience      1000000 non-null  int64 \n",
            " 7   milesFromMetropolis  1000000 non-null  int64 \n",
            "dtypes: int64(2), object(6)\n",
            "memory usage: 61.0+ MB\n"
          ],
          "name": "stdout"
        }
      ]
    },
    {
      "cell_type": "markdown",
      "metadata": {
        "id": "ZwrwKuHcFN0A",
        "colab_type": "text"
      },
      "source": [
        "The data types of the features and the target are in the proper format."
      ]
    },
    {
      "cell_type": "markdown",
      "metadata": {
        "id": "q-gOHY_sFg6Y",
        "colab_type": "text"
      },
      "source": [
        "**Check for duplicates**\n"
      ]
    },
    {
      "cell_type": "code",
      "metadata": {
        "id": "xmkOYWo4FEq_",
        "colab_type": "code",
        "colab": {
          "base_uri": "https://localhost:8080/",
          "height": 35
        },
        "outputId": "595d18eb-222a-4547-e0d3-ab901bd0b401"
      },
      "source": [
        "print(\"Number of train feature duplicates: \" + str(train_feature_df.duplicated().sum()))"
      ],
      "execution_count": 11,
      "outputs": [
        {
          "output_type": "stream",
          "text": [
            "Number of train feature duplicates: 0\n"
          ],
          "name": "stdout"
        }
      ]
    },
    {
      "cell_type": "code",
      "metadata": {
        "id": "XALo-sKlFqRv",
        "colab_type": "code",
        "colab": {
          "base_uri": "https://localhost:8080/",
          "height": 35
        },
        "outputId": "1a4f61bb-1ce0-49c6-c7c9-ef1e2ef28f6e"
      },
      "source": [
        "print(\"Number of train target(salary) duplicates: \" + str(train_target_df.duplicated().sum()))"
      ],
      "execution_count": 12,
      "outputs": [
        {
          "output_type": "stream",
          "text": [
            "Number of train target(salary) duplicates: 0\n"
          ],
          "name": "stdout"
        }
      ]
    },
    {
      "cell_type": "code",
      "metadata": {
        "id": "pvhTA8TnFt1i",
        "colab_type": "code",
        "colab": {
          "base_uri": "https://localhost:8080/",
          "height": 35
        },
        "outputId": "3acad080-74eb-42f3-80ca-e66016296b1b"
      },
      "source": [
        "print(\"Number of test feature duplicates: \" + str(test_feature_df.duplicated().sum()))"
      ],
      "execution_count": 13,
      "outputs": [
        {
          "output_type": "stream",
          "text": [
            "Number of test feature duplicates: 0\n"
          ],
          "name": "stdout"
        }
      ]
    },
    {
      "cell_type": "markdown",
      "metadata": {
        "id": "u4p1a5bHF2bg",
        "colab_type": "text"
      },
      "source": [
        "There are no duplicates present in the data."
      ]
    },
    {
      "cell_type": "markdown",
      "metadata": {
        "id": "GEgWNsycGH4A",
        "colab_type": "text"
      },
      "source": [
        "**Identify numerical and categorical variables**"
      ]
    },
    {
      "cell_type": "code",
      "metadata": {
        "id": "yQ_bYVLiGUj_",
        "colab_type": "code",
        "colab": {}
      },
      "source": [
        "numeric_cols = [\"yearsExperience\", \"milesFromMetropolis\"]\n",
        "categorical_cols = [\"jobId\", \"companyId\", \"jobType\", \"degree\", \"major\", \"industry\"]"
      ],
      "execution_count": 14,
      "outputs": []
    },
    {
      "cell_type": "markdown",
      "metadata": {
        "id": "-8jljvD2Y6uB",
        "colab_type": "text"
      },
      "source": [
        "**Merge Features and Target into a single dataframe**"
      ]
    },
    {
      "cell_type": "code",
      "metadata": {
        "id": "AEeMU97cHGuN",
        "colab_type": "code",
        "colab": {}
      },
      "source": [
        "#Merge te features and salaries on jobId\n",
        "train_df = pd.merge(train_feature_df, train_target_df, on=\"jobId\")"
      ],
      "execution_count": 15,
      "outputs": []
    },
    {
      "cell_type": "markdown",
      "metadata": {
        "id": "lMbmJ28RHZbN",
        "colab_type": "text"
      },
      "source": [
        "**Summarize numerical and categorical variables seperately** "
      ]
    },
    {
      "cell_type": "code",
      "metadata": {
        "id": "ld97VV8oFyQP",
        "colab_type": "code",
        "colab": {
          "base_uri": "https://localhost:8080/",
          "height": 70
        },
        "outputId": "9aeadda9-dd0c-4130-89f2-4614094dad05"
      },
      "source": [
        "train_df.columns"
      ],
      "execution_count": 16,
      "outputs": [
        {
          "output_type": "execute_result",
          "data": {
            "text/plain": [
              "Index(['jobId', 'companyId', 'jobType', 'degree', 'major', 'industry',\n",
              "       'yearsExperience', 'milesFromMetropolis', 'salary'],\n",
              "      dtype='object')"
            ]
          },
          "metadata": {
            "tags": []
          },
          "execution_count": 16
        }
      ]
    },
    {
      "cell_type": "code",
      "metadata": {
        "id": "LjYfoZDBGucz",
        "colab_type": "code",
        "colab": {
          "base_uri": "https://localhost:8080/",
          "height": 295
        },
        "outputId": "92e547c1-a584-4225-952d-befe206ab433"
      },
      "source": [
        "train_df.describe(include = [np.number])"
      ],
      "execution_count": 17,
      "outputs": [
        {
          "output_type": "execute_result",
          "data": {
            "text/html": [
              "<div>\n",
              "<style scoped>\n",
              "    .dataframe tbody tr th:only-of-type {\n",
              "        vertical-align: middle;\n",
              "    }\n",
              "\n",
              "    .dataframe tbody tr th {\n",
              "        vertical-align: top;\n",
              "    }\n",
              "\n",
              "    .dataframe thead th {\n",
              "        text-align: right;\n",
              "    }\n",
              "</style>\n",
              "<table border=\"1\" class=\"dataframe\">\n",
              "  <thead>\n",
              "    <tr style=\"text-align: right;\">\n",
              "      <th></th>\n",
              "      <th>yearsExperience</th>\n",
              "      <th>milesFromMetropolis</th>\n",
              "      <th>salary</th>\n",
              "    </tr>\n",
              "  </thead>\n",
              "  <tbody>\n",
              "    <tr>\n",
              "      <th>count</th>\n",
              "      <td>1000000.000000</td>\n",
              "      <td>1000000.000000</td>\n",
              "      <td>1000000.000000</td>\n",
              "    </tr>\n",
              "    <tr>\n",
              "      <th>mean</th>\n",
              "      <td>11.992386</td>\n",
              "      <td>49.529260</td>\n",
              "      <td>116.061818</td>\n",
              "    </tr>\n",
              "    <tr>\n",
              "      <th>std</th>\n",
              "      <td>7.212391</td>\n",
              "      <td>28.877733</td>\n",
              "      <td>38.717936</td>\n",
              "    </tr>\n",
              "    <tr>\n",
              "      <th>min</th>\n",
              "      <td>0.000000</td>\n",
              "      <td>0.000000</td>\n",
              "      <td>0.000000</td>\n",
              "    </tr>\n",
              "    <tr>\n",
              "      <th>25%</th>\n",
              "      <td>6.000000</td>\n",
              "      <td>25.000000</td>\n",
              "      <td>88.000000</td>\n",
              "    </tr>\n",
              "    <tr>\n",
              "      <th>50%</th>\n",
              "      <td>12.000000</td>\n",
              "      <td>50.000000</td>\n",
              "      <td>114.000000</td>\n",
              "    </tr>\n",
              "    <tr>\n",
              "      <th>75%</th>\n",
              "      <td>18.000000</td>\n",
              "      <td>75.000000</td>\n",
              "      <td>141.000000</td>\n",
              "    </tr>\n",
              "    <tr>\n",
              "      <th>max</th>\n",
              "      <td>24.000000</td>\n",
              "      <td>99.000000</td>\n",
              "      <td>301.000000</td>\n",
              "    </tr>\n",
              "  </tbody>\n",
              "</table>\n",
              "</div>"
            ],
            "text/plain": [
              "       yearsExperience  milesFromMetropolis          salary\n",
              "count   1000000.000000       1000000.000000  1000000.000000\n",
              "mean         11.992386            49.529260      116.061818\n",
              "std           7.212391            28.877733       38.717936\n",
              "min           0.000000             0.000000        0.000000\n",
              "25%           6.000000            25.000000       88.000000\n",
              "50%          12.000000            50.000000      114.000000\n",
              "75%          18.000000            75.000000      141.000000\n",
              "max          24.000000            99.000000      301.000000"
            ]
          },
          "metadata": {
            "tags": []
          },
          "execution_count": 17
        }
      ]
    },
    {
      "cell_type": "code",
      "metadata": {
        "id": "GJxe0bG-G-Gl",
        "colab_type": "code",
        "colab": {
          "base_uri": "https://localhost:8080/",
          "height": 172
        },
        "outputId": "bdf2b5ad-badd-4232-b32a-751fa4be0cb8"
      },
      "source": [
        "train_df.describe(include = ['O']) "
      ],
      "execution_count": 18,
      "outputs": [
        {
          "output_type": "execute_result",
          "data": {
            "text/html": [
              "<div>\n",
              "<style scoped>\n",
              "    .dataframe tbody tr th:only-of-type {\n",
              "        vertical-align: middle;\n",
              "    }\n",
              "\n",
              "    .dataframe tbody tr th {\n",
              "        vertical-align: top;\n",
              "    }\n",
              "\n",
              "    .dataframe thead th {\n",
              "        text-align: right;\n",
              "    }\n",
              "</style>\n",
              "<table border=\"1\" class=\"dataframe\">\n",
              "  <thead>\n",
              "    <tr style=\"text-align: right;\">\n",
              "      <th></th>\n",
              "      <th>jobId</th>\n",
              "      <th>companyId</th>\n",
              "      <th>jobType</th>\n",
              "      <th>degree</th>\n",
              "      <th>major</th>\n",
              "      <th>industry</th>\n",
              "    </tr>\n",
              "  </thead>\n",
              "  <tbody>\n",
              "    <tr>\n",
              "      <th>count</th>\n",
              "      <td>1000000</td>\n",
              "      <td>1000000</td>\n",
              "      <td>1000000</td>\n",
              "      <td>1000000</td>\n",
              "      <td>1000000</td>\n",
              "      <td>1000000</td>\n",
              "    </tr>\n",
              "    <tr>\n",
              "      <th>unique</th>\n",
              "      <td>1000000</td>\n",
              "      <td>63</td>\n",
              "      <td>8</td>\n",
              "      <td>5</td>\n",
              "      <td>9</td>\n",
              "      <td>7</td>\n",
              "    </tr>\n",
              "    <tr>\n",
              "      <th>top</th>\n",
              "      <td>JOB1362684746954</td>\n",
              "      <td>COMP39</td>\n",
              "      <td>SENIOR</td>\n",
              "      <td>HIGH_SCHOOL</td>\n",
              "      <td>NONE</td>\n",
              "      <td>WEB</td>\n",
              "    </tr>\n",
              "    <tr>\n",
              "      <th>freq</th>\n",
              "      <td>1</td>\n",
              "      <td>16193</td>\n",
              "      <td>125886</td>\n",
              "      <td>236976</td>\n",
              "      <td>532355</td>\n",
              "      <td>143206</td>\n",
              "    </tr>\n",
              "  </tbody>\n",
              "</table>\n",
              "</div>"
            ],
            "text/plain": [
              "                   jobId companyId  jobType       degree    major industry\n",
              "count            1000000   1000000  1000000      1000000  1000000  1000000\n",
              "unique           1000000        63        8            5        9        7\n",
              "top     JOB1362684746954    COMP39   SENIOR  HIGH_SCHOOL     NONE      WEB\n",
              "freq                   1     16193   125886       236976   532355   143206"
            ]
          },
          "metadata": {
            "tags": []
          },
          "execution_count": 18
        }
      ]
    },
    {
      "cell_type": "markdown",
      "metadata": {
        "id": "M3rSHX9Cps4A",
        "colab_type": "text"
      },
      "source": [
        "Among the categorical columns, \"jobId\" is unique for all the rows in tha data and it doesn't play any role in the salary prediction, same with the \"companyId\" column. For the ease of analysis, these two columns will later be removed for modeling machine learning models. "
      ]
    },
    {
      "cell_type": "code",
      "metadata": {
        "id": "IFmEflS0ZlG6",
        "colab_type": "code",
        "colab": {
          "base_uri": "https://localhost:8080/",
          "height": 299
        },
        "outputId": "826ab248-ab39-4588-f548-a9e558af3903"
      },
      "source": [
        "train_df.info()"
      ],
      "execution_count": 19,
      "outputs": [
        {
          "output_type": "stream",
          "text": [
            "<class 'pandas.core.frame.DataFrame'>\n",
            "Int64Index: 1000000 entries, 0 to 999999\n",
            "Data columns (total 9 columns):\n",
            " #   Column               Non-Null Count    Dtype \n",
            "---  ------               --------------    ----- \n",
            " 0   jobId                1000000 non-null  object\n",
            " 1   companyId            1000000 non-null  object\n",
            " 2   jobType              1000000 non-null  object\n",
            " 3   degree               1000000 non-null  object\n",
            " 4   major                1000000 non-null  object\n",
            " 5   industry             1000000 non-null  object\n",
            " 6   yearsExperience      1000000 non-null  int64 \n",
            " 7   milesFromMetropolis  1000000 non-null  int64 \n",
            " 8   salary               1000000 non-null  int64 \n",
            "dtypes: int64(3), object(6)\n",
            "memory usage: 76.3+ MB\n"
          ],
          "name": "stdout"
        }
      ]
    },
    {
      "cell_type": "markdown",
      "metadata": {
        "id": "CLjExMsXKUwI",
        "colab_type": "text"
      },
      "source": [
        "There is no missing data in the training data. Also, the data types are appropriate corresponding to the columns in the data."
      ]
    },
    {
      "cell_type": "code",
      "metadata": {
        "id": "hRWuTEeHZmhg",
        "colab_type": "code",
        "colab": {
          "base_uri": "https://localhost:8080/",
          "height": 357
        },
        "outputId": "8254bb78-de37-4f25-b3ff-6f19315c6b51"
      },
      "source": [
        "train_df.head(10)"
      ],
      "execution_count": 20,
      "outputs": [
        {
          "output_type": "execute_result",
          "data": {
            "text/html": [
              "<div>\n",
              "<style scoped>\n",
              "    .dataframe tbody tr th:only-of-type {\n",
              "        vertical-align: middle;\n",
              "    }\n",
              "\n",
              "    .dataframe tbody tr th {\n",
              "        vertical-align: top;\n",
              "    }\n",
              "\n",
              "    .dataframe thead th {\n",
              "        text-align: right;\n",
              "    }\n",
              "</style>\n",
              "<table border=\"1\" class=\"dataframe\">\n",
              "  <thead>\n",
              "    <tr style=\"text-align: right;\">\n",
              "      <th></th>\n",
              "      <th>jobId</th>\n",
              "      <th>companyId</th>\n",
              "      <th>jobType</th>\n",
              "      <th>degree</th>\n",
              "      <th>major</th>\n",
              "      <th>industry</th>\n",
              "      <th>yearsExperience</th>\n",
              "      <th>milesFromMetropolis</th>\n",
              "      <th>salary</th>\n",
              "    </tr>\n",
              "  </thead>\n",
              "  <tbody>\n",
              "    <tr>\n",
              "      <th>0</th>\n",
              "      <td>JOB1362684407687</td>\n",
              "      <td>COMP37</td>\n",
              "      <td>CFO</td>\n",
              "      <td>MASTERS</td>\n",
              "      <td>MATH</td>\n",
              "      <td>HEALTH</td>\n",
              "      <td>10</td>\n",
              "      <td>83</td>\n",
              "      <td>130</td>\n",
              "    </tr>\n",
              "    <tr>\n",
              "      <th>1</th>\n",
              "      <td>JOB1362684407688</td>\n",
              "      <td>COMP19</td>\n",
              "      <td>CEO</td>\n",
              "      <td>HIGH_SCHOOL</td>\n",
              "      <td>NONE</td>\n",
              "      <td>WEB</td>\n",
              "      <td>3</td>\n",
              "      <td>73</td>\n",
              "      <td>101</td>\n",
              "    </tr>\n",
              "    <tr>\n",
              "      <th>2</th>\n",
              "      <td>JOB1362684407689</td>\n",
              "      <td>COMP52</td>\n",
              "      <td>VICE_PRESIDENT</td>\n",
              "      <td>DOCTORAL</td>\n",
              "      <td>PHYSICS</td>\n",
              "      <td>HEALTH</td>\n",
              "      <td>10</td>\n",
              "      <td>38</td>\n",
              "      <td>137</td>\n",
              "    </tr>\n",
              "    <tr>\n",
              "      <th>3</th>\n",
              "      <td>JOB1362684407690</td>\n",
              "      <td>COMP38</td>\n",
              "      <td>MANAGER</td>\n",
              "      <td>DOCTORAL</td>\n",
              "      <td>CHEMISTRY</td>\n",
              "      <td>AUTO</td>\n",
              "      <td>8</td>\n",
              "      <td>17</td>\n",
              "      <td>142</td>\n",
              "    </tr>\n",
              "    <tr>\n",
              "      <th>4</th>\n",
              "      <td>JOB1362684407691</td>\n",
              "      <td>COMP7</td>\n",
              "      <td>VICE_PRESIDENT</td>\n",
              "      <td>BACHELORS</td>\n",
              "      <td>PHYSICS</td>\n",
              "      <td>FINANCE</td>\n",
              "      <td>8</td>\n",
              "      <td>16</td>\n",
              "      <td>163</td>\n",
              "    </tr>\n",
              "    <tr>\n",
              "      <th>5</th>\n",
              "      <td>JOB1362684407692</td>\n",
              "      <td>COMP15</td>\n",
              "      <td>MANAGER</td>\n",
              "      <td>DOCTORAL</td>\n",
              "      <td>COMPSCI</td>\n",
              "      <td>FINANCE</td>\n",
              "      <td>2</td>\n",
              "      <td>31</td>\n",
              "      <td>113</td>\n",
              "    </tr>\n",
              "    <tr>\n",
              "      <th>6</th>\n",
              "      <td>JOB1362684407693</td>\n",
              "      <td>COMP15</td>\n",
              "      <td>CFO</td>\n",
              "      <td>NONE</td>\n",
              "      <td>NONE</td>\n",
              "      <td>HEALTH</td>\n",
              "      <td>23</td>\n",
              "      <td>24</td>\n",
              "      <td>178</td>\n",
              "    </tr>\n",
              "    <tr>\n",
              "      <th>7</th>\n",
              "      <td>JOB1362684407694</td>\n",
              "      <td>COMP24</td>\n",
              "      <td>JUNIOR</td>\n",
              "      <td>BACHELORS</td>\n",
              "      <td>CHEMISTRY</td>\n",
              "      <td>EDUCATION</td>\n",
              "      <td>9</td>\n",
              "      <td>70</td>\n",
              "      <td>73</td>\n",
              "    </tr>\n",
              "    <tr>\n",
              "      <th>8</th>\n",
              "      <td>JOB1362684407695</td>\n",
              "      <td>COMP20</td>\n",
              "      <td>JANITOR</td>\n",
              "      <td>HIGH_SCHOOL</td>\n",
              "      <td>NONE</td>\n",
              "      <td>EDUCATION</td>\n",
              "      <td>1</td>\n",
              "      <td>54</td>\n",
              "      <td>31</td>\n",
              "    </tr>\n",
              "    <tr>\n",
              "      <th>9</th>\n",
              "      <td>JOB1362684407696</td>\n",
              "      <td>COMP41</td>\n",
              "      <td>VICE_PRESIDENT</td>\n",
              "      <td>BACHELORS</td>\n",
              "      <td>CHEMISTRY</td>\n",
              "      <td>AUTO</td>\n",
              "      <td>17</td>\n",
              "      <td>68</td>\n",
              "      <td>104</td>\n",
              "    </tr>\n",
              "  </tbody>\n",
              "</table>\n",
              "</div>"
            ],
            "text/plain": [
              "              jobId companyId  ... milesFromMetropolis salary\n",
              "0  JOB1362684407687    COMP37  ...                  83    130\n",
              "1  JOB1362684407688    COMP19  ...                  73    101\n",
              "2  JOB1362684407689    COMP52  ...                  38    137\n",
              "3  JOB1362684407690    COMP38  ...                  17    142\n",
              "4  JOB1362684407691     COMP7  ...                  16    163\n",
              "5  JOB1362684407692    COMP15  ...                  31    113\n",
              "6  JOB1362684407693    COMP15  ...                  24    178\n",
              "7  JOB1362684407694    COMP24  ...                  70     73\n",
              "8  JOB1362684407695    COMP20  ...                  54     31\n",
              "9  JOB1362684407696    COMP41  ...                  68    104\n",
              "\n",
              "[10 rows x 9 columns]"
            ]
          },
          "metadata": {
            "tags": []
          },
          "execution_count": 20
        }
      ]
    },
    {
      "cell_type": "markdown",
      "metadata": {
        "id": "rErJXy9tKb0a",
        "colab_type": "text"
      },
      "source": [
        "##**Explore the data(EDA)**"
      ]
    },
    {
      "cell_type": "markdown",
      "metadata": {
        "id": "ScgDZ20CbGck",
        "colab_type": "text"
      },
      "source": [
        "**Visualize target variable(salary)**"
      ]
    },
    {
      "cell_type": "code",
      "metadata": {
        "id": "F_6H5PxTZqPQ",
        "colab_type": "code",
        "colab": {
          "base_uri": "https://localhost:8080/",
          "height": 466
        },
        "outputId": "d1bb818b-ee4f-440c-cfc4-e99f1bb2dff1"
      },
      "source": [
        "f, ax = plt.subplots(1, 2, figsize=(18,6))\n",
        "sns.distplot(train_df.salary, ax=ax[0], bins=40, kde=True, norm_hist=True)\n",
        "ax[0].axvline(np.mean(train_df.salary), color='black')\n",
        "ax[0].axvline(np.median(train_df.salary), color='darkblue', linestyle='--')\n",
        "ax[0].set_title(\"Salary Histogram\", fontsize=14)\n",
        "sns.boxplot(train_df.salary, ax=ax[1], color='darkblue')\n",
        "ax[1].set_title(\"Salary Boxplot\", fontsize=14)\n",
        "f.suptitle(\"Distribution of Salary\", fontsize=18)\n",
        "\n",
        "print(\"The black line in distribution plot shows the mean at: \",\n",
        "      round(train_df.salary.mean()))\n",
        "print(\"The dotted blue line in the distribution plot shows the median at: \", \n",
        "      round(train_df.salary.median()))"
      ],
      "execution_count": 21,
      "outputs": [
        {
          "output_type": "stream",
          "text": [
            "The black line in distribution plot shows the mean at:  116\n",
            "The dotted blue line in the distribution plot shows the median at:  114\n"
          ],
          "name": "stdout"
        },
        {
          "output_type": "display_data",
          "data": {
            "image/png": "[encoded data removed]",
            "text/plain": [
              "<Figure size 1296x432 with 2 Axes>"
            ]
          },
          "metadata": {
            "tags": [],
            "needs_background": "light"
          }
        }
      ]
    },
    {
      "cell_type": "markdown",
      "metadata": {
        "id": "83bZZF6_rcCS",
        "colab_type": "text"
      },
      "source": [
        "Since the distribution of salary looks like normal, a little skewed to the right, we can use the IQR rule to detect the potential outliers since almost 95% in case of normal distribution lie within 25% quantile and 75% quantile."
      ]
    },
    {
      "cell_type": "markdown",
      "metadata": {
        "id": "q8_QSWX6cNZt",
        "colab_type": "text"
      },
      "source": [
        "**Use IQR rule to identify potential outliers in the target**"
      ]
    },
    {
      "cell_type": "code",
      "metadata": {
        "id": "rZJVxDdUb2RD",
        "colab_type": "code",
        "colab": {
          "base_uri": "https://localhost:8080/",
          "height": 211
        },
        "outputId": "d9ef10c6-00c6-4d6c-e64e-3608e6db4cba"
      },
      "source": [
        "stat = train_df.salary.describe()\n",
        "print(stat)\n",
        "IQR = stat['75%'] - stat['25%']\n",
        "upper = stat['75%'] + 1.5 * IQR\n",
        "lower = stat['25%'] - 1.5 * IQR\n",
        "print(\"\\n The upper and lower bounds for suspected outliers are {} and {}.\".format(upper, lower))"
      ],
      "execution_count": 23,
      "outputs": [
        {
          "output_type": "stream",
          "text": [
            "count    1000000.000000\n",
            "mean         116.061818\n",
            "std           38.717936\n",
            "min            0.000000\n",
            "25%           88.000000\n",
            "50%          114.000000\n",
            "75%          141.000000\n",
            "max          301.000000\n",
            "Name: salary, dtype: float64\n",
            "\n",
            " The upper and lower bounds for suspected outliers are 220.5 and 8.5.\n"
          ],
          "name": "stdout"
        }
      ]
    },
    {
      "cell_type": "code",
      "metadata": {
        "id": "cndzAOl5c10y",
        "colab_type": "code",
        "colab": {
          "base_uri": "https://localhost:8080/",
          "height": 203
        },
        "outputId": "8d48efee-05d8-4c61-f83c-da7995a5249f"
      },
      "source": [
        "train_df[train_df.salary<8.5]"
      ],
      "execution_count": 24,
      "outputs": [
        {
          "output_type": "execute_result",
          "data": {
            "text/html": [
              "<div>\n",
              "<style scoped>\n",
              "    .dataframe tbody tr th:only-of-type {\n",
              "        vertical-align: middle;\n",
              "    }\n",
              "\n",
              "    .dataframe tbody tr th {\n",
              "        vertical-align: top;\n",
              "    }\n",
              "\n",
              "    .dataframe thead th {\n",
              "        text-align: right;\n",
              "    }\n",
              "</style>\n",
              "<table border=\"1\" class=\"dataframe\">\n",
              "  <thead>\n",
              "    <tr style=\"text-align: right;\">\n",
              "      <th></th>\n",
              "      <th>jobId</th>\n",
              "      <th>companyId</th>\n",
              "      <th>jobType</th>\n",
              "      <th>degree</th>\n",
              "      <th>major</th>\n",
              "      <th>industry</th>\n",
              "      <th>yearsExperience</th>\n",
              "      <th>milesFromMetropolis</th>\n",
              "      <th>salary</th>\n",
              "    </tr>\n",
              "  </thead>\n",
              "  <tbody>\n",
              "    <tr>\n",
              "      <th>30559</th>\n",
              "      <td>JOB1362684438246</td>\n",
              "      <td>COMP44</td>\n",
              "      <td>JUNIOR</td>\n",
              "      <td>DOCTORAL</td>\n",
              "      <td>MATH</td>\n",
              "      <td>AUTO</td>\n",
              "      <td>11</td>\n",
              "      <td>7</td>\n",
              "      <td>0</td>\n",
              "    </tr>\n",
              "    <tr>\n",
              "      <th>495984</th>\n",
              "      <td>JOB1362684903671</td>\n",
              "      <td>COMP34</td>\n",
              "      <td>JUNIOR</td>\n",
              "      <td>NONE</td>\n",
              "      <td>NONE</td>\n",
              "      <td>OIL</td>\n",
              "      <td>1</td>\n",
              "      <td>25</td>\n",
              "      <td>0</td>\n",
              "    </tr>\n",
              "    <tr>\n",
              "      <th>652076</th>\n",
              "      <td>JOB1362685059763</td>\n",
              "      <td>COMP25</td>\n",
              "      <td>CTO</td>\n",
              "      <td>HIGH_SCHOOL</td>\n",
              "      <td>NONE</td>\n",
              "      <td>AUTO</td>\n",
              "      <td>6</td>\n",
              "      <td>60</td>\n",
              "      <td>0</td>\n",
              "    </tr>\n",
              "    <tr>\n",
              "      <th>816129</th>\n",
              "      <td>JOB1362685223816</td>\n",
              "      <td>COMP42</td>\n",
              "      <td>MANAGER</td>\n",
              "      <td>DOCTORAL</td>\n",
              "      <td>ENGINEERING</td>\n",
              "      <td>FINANCE</td>\n",
              "      <td>18</td>\n",
              "      <td>6</td>\n",
              "      <td>0</td>\n",
              "    </tr>\n",
              "    <tr>\n",
              "      <th>828156</th>\n",
              "      <td>JOB1362685235843</td>\n",
              "      <td>COMP40</td>\n",
              "      <td>VICE_PRESIDENT</td>\n",
              "      <td>MASTERS</td>\n",
              "      <td>ENGINEERING</td>\n",
              "      <td>WEB</td>\n",
              "      <td>3</td>\n",
              "      <td>29</td>\n",
              "      <td>0</td>\n",
              "    </tr>\n",
              "  </tbody>\n",
              "</table>\n",
              "</div>"
            ],
            "text/plain": [
              "                   jobId companyId  ... milesFromMetropolis salary\n",
              "30559   JOB1362684438246    COMP44  ...                   7      0\n",
              "495984  JOB1362684903671    COMP34  ...                  25      0\n",
              "652076  JOB1362685059763    COMP25  ...                  60      0\n",
              "816129  JOB1362685223816    COMP42  ...                   6      0\n",
              "828156  JOB1362685235843    COMP40  ...                  29      0\n",
              "\n",
              "[5 rows x 9 columns]"
            ]
          },
          "metadata": {
            "tags": []
          },
          "execution_count": 24
        }
      ]
    },
    {
      "cell_type": "markdown",
      "metadata": {
        "id": "Cg7rj7D-7qh8",
        "colab_type": "text"
      },
      "source": [
        "It is highly unlikely that a person with 18years and 11years of experience has zero salary which implies the data is corrupt or is missing and can likely be omitted from the analysis."
      ]
    },
    {
      "cell_type": "code",
      "metadata": {
        "id": "sN-z1CAlBXvH",
        "colab_type": "code",
        "colab": {}
      },
      "source": [
        "train_df = train_df[train_df.salary>=8.5] ##Remove rows corresponding to salary=0"
      ],
      "execution_count": 25,
      "outputs": []
    },
    {
      "cell_type": "code",
      "metadata": {
        "id": "y4ClmSnKDFKk",
        "colab_type": "code",
        "colab": {
          "base_uri": "https://localhost:8080/",
          "height": 220
        },
        "outputId": "725514ed-b5b0-46c8-fc6d-4ed64a6e3029"
      },
      "source": [
        "#Resetting the index values\n",
        "print(train_df.shape)\n",
        "train_df.reset_index(drop = True).head()"
      ],
      "execution_count": 26,
      "outputs": [
        {
          "output_type": "stream",
          "text": [
            "(999995, 9)\n"
          ],
          "name": "stdout"
        },
        {
          "output_type": "execute_result",
          "data": {
            "text/html": [
              "<div>\n",
              "<style scoped>\n",
              "    .dataframe tbody tr th:only-of-type {\n",
              "        vertical-align: middle;\n",
              "    }\n",
              "\n",
              "    .dataframe tbody tr th {\n",
              "        vertical-align: top;\n",
              "    }\n",
              "\n",
              "    .dataframe thead th {\n",
              "        text-align: right;\n",
              "    }\n",
              "</style>\n",
              "<table border=\"1\" class=\"dataframe\">\n",
              "  <thead>\n",
              "    <tr style=\"text-align: right;\">\n",
              "      <th></th>\n",
              "      <th>jobId</th>\n",
              "      <th>companyId</th>\n",
              "      <th>jobType</th>\n",
              "      <th>degree</th>\n",
              "      <th>major</th>\n",
              "      <th>industry</th>\n",
              "      <th>yearsExperience</th>\n",
              "      <th>milesFromMetropolis</th>\n",
              "      <th>salary</th>\n",
              "    </tr>\n",
              "  </thead>\n",
              "  <tbody>\n",
              "    <tr>\n",
              "      <th>0</th>\n",
              "      <td>JOB1362684407687</td>\n",
              "      <td>COMP37</td>\n",
              "      <td>CFO</td>\n",
              "      <td>MASTERS</td>\n",
              "      <td>MATH</td>\n",
              "      <td>HEALTH</td>\n",
              "      <td>10</td>\n",
              "      <td>83</td>\n",
              "      <td>130</td>\n",
              "    </tr>\n",
              "    <tr>\n",
              "      <th>1</th>\n",
              "      <td>JOB1362684407688</td>\n",
              "      <td>COMP19</td>\n",
              "      <td>CEO</td>\n",
              "      <td>HIGH_SCHOOL</td>\n",
              "      <td>NONE</td>\n",
              "      <td>WEB</td>\n",
              "      <td>3</td>\n",
              "      <td>73</td>\n",
              "      <td>101</td>\n",
              "    </tr>\n",
              "    <tr>\n",
              "      <th>2</th>\n",
              "      <td>JOB1362684407689</td>\n",
              "      <td>COMP52</td>\n",
              "      <td>VICE_PRESIDENT</td>\n",
              "      <td>DOCTORAL</td>\n",
              "      <td>PHYSICS</td>\n",
              "      <td>HEALTH</td>\n",
              "      <td>10</td>\n",
              "      <td>38</td>\n",
              "      <td>137</td>\n",
              "    </tr>\n",
              "    <tr>\n",
              "      <th>3</th>\n",
              "      <td>JOB1362684407690</td>\n",
              "      <td>COMP38</td>\n",
              "      <td>MANAGER</td>\n",
              "      <td>DOCTORAL</td>\n",
              "      <td>CHEMISTRY</td>\n",
              "      <td>AUTO</td>\n",
              "      <td>8</td>\n",
              "      <td>17</td>\n",
              "      <td>142</td>\n",
              "    </tr>\n",
              "    <tr>\n",
              "      <th>4</th>\n",
              "      <td>JOB1362684407691</td>\n",
              "      <td>COMP7</td>\n",
              "      <td>VICE_PRESIDENT</td>\n",
              "      <td>BACHELORS</td>\n",
              "      <td>PHYSICS</td>\n",
              "      <td>FINANCE</td>\n",
              "      <td>8</td>\n",
              "      <td>16</td>\n",
              "      <td>163</td>\n",
              "    </tr>\n",
              "  </tbody>\n",
              "</table>\n",
              "</div>"
            ],
            "text/plain": [
              "              jobId companyId  ... milesFromMetropolis salary\n",
              "0  JOB1362684407687    COMP37  ...                  83    130\n",
              "1  JOB1362684407688    COMP19  ...                  73    101\n",
              "2  JOB1362684407689    COMP52  ...                  38    137\n",
              "3  JOB1362684407690    COMP38  ...                  17    142\n",
              "4  JOB1362684407691     COMP7  ...                  16    163\n",
              "\n",
              "[5 rows x 9 columns]"
            ]
          },
          "metadata": {
            "tags": []
          },
          "execution_count": 26
        }
      ]
    },
    {
      "cell_type": "code",
      "metadata": {
        "id": "eUQH0dZN8B8X",
        "colab_type": "code",
        "colab": {
          "base_uri": "https://localhost:8080/",
          "height": 158
        },
        "outputId": "43ce7367-5375-48f8-e0b7-b0b502c0d073"
      },
      "source": [
        "#check potential outlier above upper bound\n",
        "train_df[train_df.salary>220.5].jobType.value_counts()"
      ],
      "execution_count": 27,
      "outputs": [
        {
          "output_type": "execute_result",
          "data": {
            "text/plain": [
              "CEO               3227\n",
              "CFO               1496\n",
              "CTO               1488\n",
              "VICE_PRESIDENT     603\n",
              "MANAGER            217\n",
              "SENIOR              66\n",
              "JUNIOR              20\n",
              "Name: jobType, dtype: int64"
            ]
          },
          "metadata": {
            "tags": []
          },
          "execution_count": 27
        }
      ]
    },
    {
      "cell_type": "code",
      "metadata": {
        "id": "apnReKFh8-o_",
        "colab_type": "code",
        "colab": {
          "base_uri": "https://localhost:8080/",
          "height": 665
        },
        "outputId": "932eb571-e325-4f41-ca96-455bb179be01"
      },
      "source": [
        "#check the most suspicious potential outliers above upper bound i.e the rows corresponding to the JUNIOR role.\n",
        "train_df[(train_df.salary > 220.5) & (train_df.jobType == 'JUNIOR')]"
      ],
      "execution_count": 28,
      "outputs": [
        {
          "output_type": "execute_result",
          "data": {
            "text/html": [
              "<div>\n",
              "<style scoped>\n",
              "    .dataframe tbody tr th:only-of-type {\n",
              "        vertical-align: middle;\n",
              "    }\n",
              "\n",
              "    .dataframe tbody tr th {\n",
              "        vertical-align: top;\n",
              "    }\n",
              "\n",
              "    .dataframe thead th {\n",
              "        text-align: right;\n",
              "    }\n",
              "</style>\n",
              "<table border=\"1\" class=\"dataframe\">\n",
              "  <thead>\n",
              "    <tr style=\"text-align: right;\">\n",
              "      <th></th>\n",
              "      <th>jobId</th>\n",
              "      <th>companyId</th>\n",
              "      <th>jobType</th>\n",
              "      <th>degree</th>\n",
              "      <th>major</th>\n",
              "      <th>industry</th>\n",
              "      <th>yearsExperience</th>\n",
              "      <th>milesFromMetropolis</th>\n",
              "      <th>salary</th>\n",
              "    </tr>\n",
              "  </thead>\n",
              "  <tbody>\n",
              "    <tr>\n",
              "      <th>1222</th>\n",
              "      <td>JOB1362684408909</td>\n",
              "      <td>COMP40</td>\n",
              "      <td>JUNIOR</td>\n",
              "      <td>MASTERS</td>\n",
              "      <td>COMPSCI</td>\n",
              "      <td>OIL</td>\n",
              "      <td>24</td>\n",
              "      <td>5</td>\n",
              "      <td>225</td>\n",
              "    </tr>\n",
              "    <tr>\n",
              "      <th>27710</th>\n",
              "      <td>JOB1362684435397</td>\n",
              "      <td>COMP21</td>\n",
              "      <td>JUNIOR</td>\n",
              "      <td>DOCTORAL</td>\n",
              "      <td>ENGINEERING</td>\n",
              "      <td>OIL</td>\n",
              "      <td>24</td>\n",
              "      <td>3</td>\n",
              "      <td>246</td>\n",
              "    </tr>\n",
              "    <tr>\n",
              "      <th>31355</th>\n",
              "      <td>JOB1362684439042</td>\n",
              "      <td>COMP45</td>\n",
              "      <td>JUNIOR</td>\n",
              "      <td>DOCTORAL</td>\n",
              "      <td>COMPSCI</td>\n",
              "      <td>FINANCE</td>\n",
              "      <td>24</td>\n",
              "      <td>0</td>\n",
              "      <td>225</td>\n",
              "    </tr>\n",
              "    <tr>\n",
              "      <th>100042</th>\n",
              "      <td>JOB1362684507729</td>\n",
              "      <td>COMP17</td>\n",
              "      <td>JUNIOR</td>\n",
              "      <td>DOCTORAL</td>\n",
              "      <td>BUSINESS</td>\n",
              "      <td>FINANCE</td>\n",
              "      <td>23</td>\n",
              "      <td>8</td>\n",
              "      <td>248</td>\n",
              "    </tr>\n",
              "    <tr>\n",
              "      <th>160333</th>\n",
              "      <td>JOB1362684568020</td>\n",
              "      <td>COMP18</td>\n",
              "      <td>JUNIOR</td>\n",
              "      <td>DOCTORAL</td>\n",
              "      <td>BUSINESS</td>\n",
              "      <td>FINANCE</td>\n",
              "      <td>22</td>\n",
              "      <td>3</td>\n",
              "      <td>223</td>\n",
              "    </tr>\n",
              "    <tr>\n",
              "      <th>189582</th>\n",
              "      <td>JOB1362684597269</td>\n",
              "      <td>COMP32</td>\n",
              "      <td>JUNIOR</td>\n",
              "      <td>DOCTORAL</td>\n",
              "      <td>BUSINESS</td>\n",
              "      <td>OIL</td>\n",
              "      <td>24</td>\n",
              "      <td>11</td>\n",
              "      <td>221</td>\n",
              "    </tr>\n",
              "    <tr>\n",
              "      <th>214606</th>\n",
              "      <td>JOB1362684622293</td>\n",
              "      <td>COMP47</td>\n",
              "      <td>JUNIOR</td>\n",
              "      <td>MASTERS</td>\n",
              "      <td>BUSINESS</td>\n",
              "      <td>FINANCE</td>\n",
              "      <td>22</td>\n",
              "      <td>4</td>\n",
              "      <td>222</td>\n",
              "    </tr>\n",
              "    <tr>\n",
              "      <th>303778</th>\n",
              "      <td>JOB1362684711465</td>\n",
              "      <td>COMP51</td>\n",
              "      <td>JUNIOR</td>\n",
              "      <td>MASTERS</td>\n",
              "      <td>ENGINEERING</td>\n",
              "      <td>WEB</td>\n",
              "      <td>24</td>\n",
              "      <td>2</td>\n",
              "      <td>226</td>\n",
              "    </tr>\n",
              "    <tr>\n",
              "      <th>348354</th>\n",
              "      <td>JOB1362684756041</td>\n",
              "      <td>COMP56</td>\n",
              "      <td>JUNIOR</td>\n",
              "      <td>DOCTORAL</td>\n",
              "      <td>ENGINEERING</td>\n",
              "      <td>OIL</td>\n",
              "      <td>23</td>\n",
              "      <td>25</td>\n",
              "      <td>226</td>\n",
              "    </tr>\n",
              "    <tr>\n",
              "      <th>427593</th>\n",
              "      <td>JOB1362684835280</td>\n",
              "      <td>COMP54</td>\n",
              "      <td>JUNIOR</td>\n",
              "      <td>DOCTORAL</td>\n",
              "      <td>ENGINEERING</td>\n",
              "      <td>FINANCE</td>\n",
              "      <td>23</td>\n",
              "      <td>3</td>\n",
              "      <td>221</td>\n",
              "    </tr>\n",
              "    <tr>\n",
              "      <th>500739</th>\n",
              "      <td>JOB1362684908426</td>\n",
              "      <td>COMP40</td>\n",
              "      <td>JUNIOR</td>\n",
              "      <td>DOCTORAL</td>\n",
              "      <td>ENGINEERING</td>\n",
              "      <td>OIL</td>\n",
              "      <td>21</td>\n",
              "      <td>0</td>\n",
              "      <td>227</td>\n",
              "    </tr>\n",
              "    <tr>\n",
              "      <th>627534</th>\n",
              "      <td>JOB1362685035221</td>\n",
              "      <td>COMP5</td>\n",
              "      <td>JUNIOR</td>\n",
              "      <td>DOCTORAL</td>\n",
              "      <td>ENGINEERING</td>\n",
              "      <td>OIL</td>\n",
              "      <td>24</td>\n",
              "      <td>29</td>\n",
              "      <td>230</td>\n",
              "    </tr>\n",
              "    <tr>\n",
              "      <th>645555</th>\n",
              "      <td>JOB1362685053242</td>\n",
              "      <td>COMP36</td>\n",
              "      <td>JUNIOR</td>\n",
              "      <td>DOCTORAL</td>\n",
              "      <td>BUSINESS</td>\n",
              "      <td>FINANCE</td>\n",
              "      <td>24</td>\n",
              "      <td>1</td>\n",
              "      <td>225</td>\n",
              "    </tr>\n",
              "    <tr>\n",
              "      <th>656572</th>\n",
              "      <td>JOB1362685064259</td>\n",
              "      <td>COMP28</td>\n",
              "      <td>JUNIOR</td>\n",
              "      <td>DOCTORAL</td>\n",
              "      <td>BUSINESS</td>\n",
              "      <td>OIL</td>\n",
              "      <td>22</td>\n",
              "      <td>3</td>\n",
              "      <td>222</td>\n",
              "    </tr>\n",
              "    <tr>\n",
              "      <th>685775</th>\n",
              "      <td>JOB1362685093462</td>\n",
              "      <td>COMP38</td>\n",
              "      <td>JUNIOR</td>\n",
              "      <td>BACHELORS</td>\n",
              "      <td>ENGINEERING</td>\n",
              "      <td>OIL</td>\n",
              "      <td>24</td>\n",
              "      <td>13</td>\n",
              "      <td>225</td>\n",
              "    </tr>\n",
              "    <tr>\n",
              "      <th>743326</th>\n",
              "      <td>JOB1362685151013</td>\n",
              "      <td>COMP14</td>\n",
              "      <td>JUNIOR</td>\n",
              "      <td>DOCTORAL</td>\n",
              "      <td>BUSINESS</td>\n",
              "      <td>FINANCE</td>\n",
              "      <td>19</td>\n",
              "      <td>0</td>\n",
              "      <td>236</td>\n",
              "    </tr>\n",
              "    <tr>\n",
              "      <th>787674</th>\n",
              "      <td>JOB1362685195361</td>\n",
              "      <td>COMP43</td>\n",
              "      <td>JUNIOR</td>\n",
              "      <td>DOCTORAL</td>\n",
              "      <td>BUSINESS</td>\n",
              "      <td>FINANCE</td>\n",
              "      <td>18</td>\n",
              "      <td>15</td>\n",
              "      <td>232</td>\n",
              "    </tr>\n",
              "    <tr>\n",
              "      <th>796956</th>\n",
              "      <td>JOB1362685204643</td>\n",
              "      <td>COMP30</td>\n",
              "      <td>JUNIOR</td>\n",
              "      <td>MASTERS</td>\n",
              "      <td>BUSINESS</td>\n",
              "      <td>OIL</td>\n",
              "      <td>24</td>\n",
              "      <td>2</td>\n",
              "      <td>228</td>\n",
              "    </tr>\n",
              "    <tr>\n",
              "      <th>855219</th>\n",
              "      <td>JOB1362685262906</td>\n",
              "      <td>COMP13</td>\n",
              "      <td>JUNIOR</td>\n",
              "      <td>MASTERS</td>\n",
              "      <td>ENGINEERING</td>\n",
              "      <td>OIL</td>\n",
              "      <td>22</td>\n",
              "      <td>26</td>\n",
              "      <td>225</td>\n",
              "    </tr>\n",
              "    <tr>\n",
              "      <th>954368</th>\n",
              "      <td>JOB1362685362055</td>\n",
              "      <td>COMP11</td>\n",
              "      <td>JUNIOR</td>\n",
              "      <td>DOCTORAL</td>\n",
              "      <td>BUSINESS</td>\n",
              "      <td>OIL</td>\n",
              "      <td>24</td>\n",
              "      <td>26</td>\n",
              "      <td>223</td>\n",
              "    </tr>\n",
              "  </tbody>\n",
              "</table>\n",
              "</div>"
            ],
            "text/plain": [
              "                   jobId companyId  ... milesFromMetropolis salary\n",
              "1222    JOB1362684408909    COMP40  ...                   5    225\n",
              "27710   JOB1362684435397    COMP21  ...                   3    246\n",
              "31355   JOB1362684439042    COMP45  ...                   0    225\n",
              "100042  JOB1362684507729    COMP17  ...                   8    248\n",
              "160333  JOB1362684568020    COMP18  ...                   3    223\n",
              "189582  JOB1362684597269    COMP32  ...                  11    221\n",
              "214606  JOB1362684622293    COMP47  ...                   4    222\n",
              "303778  JOB1362684711465    COMP51  ...                   2    226\n",
              "348354  JOB1362684756041    COMP56  ...                  25    226\n",
              "427593  JOB1362684835280    COMP54  ...                   3    221\n",
              "500739  JOB1362684908426    COMP40  ...                   0    227\n",
              "627534  JOB1362685035221     COMP5  ...                  29    230\n",
              "645555  JOB1362685053242    COMP36  ...                   1    225\n",
              "656572  JOB1362685064259    COMP28  ...                   3    222\n",
              "685775  JOB1362685093462    COMP38  ...                  13    225\n",
              "743326  JOB1362685151013    COMP14  ...                   0    236\n",
              "787674  JOB1362685195361    COMP43  ...                  15    232\n",
              "796956  JOB1362685204643    COMP30  ...                   2    228\n",
              "855219  JOB1362685262906    COMP13  ...                  26    225\n",
              "954368  JOB1362685362055    COMP11  ...                  26    223\n",
              "\n",
              "[20 rows x 9 columns]"
            ]
          },
          "metadata": {
            "tags": []
          },
          "execution_count": 28
        }
      ]
    },
    {
      "cell_type": "markdown",
      "metadata": {
        "id": "3wesEvjQ_E-g",
        "colab_type": "text"
      },
      "source": [
        "These suspicious outliers seem to be legitimate considering the industry they are employed in, years of experience and the degree. Hence, the data corresponding to these rows are included in the training data for analysis."
      ]
    },
    {
      "cell_type": "code",
      "metadata": {
        "id": "cSAe7s-sEg_R",
        "colab_type": "code",
        "colab": {
          "base_uri": "https://localhost:8080/",
          "height": 187
        },
        "outputId": "02230d85-8316-4f7c-d6ee-647438cf6328"
      },
      "source": [
        "train_df.dtypes"
      ],
      "execution_count": 29,
      "outputs": [
        {
          "output_type": "execute_result",
          "data": {
            "text/plain": [
              "jobId                  object\n",
              "companyId              object\n",
              "jobType                object\n",
              "degree                 object\n",
              "major                  object\n",
              "industry               object\n",
              "yearsExperience         int64\n",
              "milesFromMetropolis     int64\n",
              "salary                  int64\n",
              "dtype: object"
            ]
          },
          "metadata": {
            "tags": []
          },
          "execution_count": 29
        }
      ]
    },
    {
      "cell_type": "code",
      "metadata": {
        "id": "0R9lEmdl91QD",
        "colab_type": "code",
        "colab": {
          "base_uri": "https://localhost:8080/",
          "height": 462
        },
        "outputId": "179f05c5-ede4-44a1-f54e-e9047172862d"
      },
      "source": [
        "corr = train_df.corr()\n",
        "print(corr)\n",
        "ax = sns.heatmap(\n",
        "    corr, \n",
        "    vmin=-1, vmax=1, center=0,\n",
        "    cmap=sns.diverging_palette(20, 220, n=200),\n",
        "    square=True, annot=True\n",
        ")\n",
        "ax.set_xticklabels(\n",
        "    ax.get_xticklabels(),\n",
        "    rotation=45,\n",
        "    horizontalalignment='right'\n",
        ")"
      ],
      "execution_count": 31,
      "outputs": [
        {
          "output_type": "stream",
          "text": [
            "                     yearsExperience  milesFromMetropolis    salary\n",
            "yearsExperience             1.000000             0.000672  0.375013\n",
            "milesFromMetropolis         0.000672             1.000000 -0.297686\n",
            "salary                      0.375013            -0.297686  1.000000\n"
          ],
          "name": "stdout"
        },
        {
          "output_type": "execute_result",
          "data": {
            "text/plain": [
              "[Text(0.5, 0, 'yearsExperience'),\n",
              " Text(1.5, 0, 'milesFromMetropolis'),\n",
              " Text(2.5, 0, 'salary')]"
            ]
          },
          "metadata": {
            "tags": []
          },
          "execution_count": 31
        },
        {
          "output_type": "display_data",
          "data": {
            "image/png": "[encoded data removed]",
            "text/plain": [
              "<Figure size 432x288 with 2 Axes>"
            ]
          },
          "metadata": {
            "tags": [],
            "needs_background": "light"
          }
        }
      ]
    },
    {
      "cell_type": "markdown",
      "metadata": {
        "id": "C9Bs0SF1l96X",
        "colab_type": "text"
      },
      "source": [
        "The positive correlation between Salary and the years of experience explains the increase in salary with the increase in experience.\n",
        "\n",
        "Also, the negative correlation between Salary and miles from Metropolis explains the higher pay in Urban areas."
      ]
    },
    {
      "cell_type": "markdown",
      "metadata": {
        "id": "ZigHyd1FNwzd",
        "colab_type": "text"
      },
      "source": [
        "**Unique value counts in the categorical features**"
      ]
    },
    {
      "cell_type": "code",
      "metadata": {
        "id": "l8agE-zyNs3W",
        "colab_type": "code",
        "colab": {
          "base_uri": "https://localhost:8080/",
          "height": 739
        },
        "outputId": "9895bd5c-e3d6-4e70-c994-fae567a36ed3"
      },
      "source": [
        "for feature in categorical_cols:\n",
        "  if feature!='jobId' and feature!='companyId':\n",
        "    print(train_df[feature].value_counts()) \n",
        "    print(\"\\n\")"
      ],
      "execution_count": 32,
      "outputs": [
        {
          "output_type": "stream",
          "text": [
            "SENIOR            125886\n",
            "VICE_PRESIDENT    125234\n",
            "MANAGER           125120\n",
            "CTO               125045\n",
            "JANITOR           124971\n",
            "CEO               124778\n",
            "JUNIOR            124592\n",
            "CFO               124369\n",
            "Name: jobType, dtype: int64\n",
            "\n",
            "\n",
            "HIGH_SCHOOL    236975\n",
            "NONE           236853\n",
            "BACHELORS      175495\n",
            "DOCTORAL       175362\n",
            "MASTERS        175310\n",
            "Name: degree, dtype: int64\n",
            "\n",
            "\n",
            "NONE           532353\n",
            "CHEMISTRY       58875\n",
            "LITERATURE      58684\n",
            "ENGINEERING     58594\n",
            "BUSINESS        58518\n",
            "PHYSICS         58410\n",
            "COMPSCI         58382\n",
            "BIOLOGY         58379\n",
            "MATH            57800\n",
            "Name: major, dtype: int64\n",
            "\n",
            "\n",
            "WEB          143205\n",
            "AUTO         142941\n",
            "FINANCE      142866\n",
            "EDUCATION    142819\n",
            "OIL          142770\n",
            "HEALTH       142755\n",
            "SERVICE      142639\n",
            "Name: industry, dtype: int64\n",
            "\n",
            "\n"
          ],
          "name": "stdout"
        }
      ]
    },
    {
      "cell_type": "markdown",
      "metadata": {
        "id": "cormrGSGOlIj",
        "colab_type": "text"
      },
      "source": [
        "**Inference from Visualization plots**"
      ]
    },
    {
      "cell_type": "code",
      "metadata": {
        "id": "kZhyYasvogZ3",
        "colab_type": "code",
        "colab": {}
      },
      "source": [
        "def plot_feature(df, column):\n",
        "    \n",
        "    plt.figure(figsize = (13,6))\n",
        "    plt.subplot(1,2,1)\n",
        "    \n",
        "    if df[column].dtype == 'int64':\n",
        "        df[column].value_counts().sort_index().plot()\n",
        "    else:\n",
        "        #change categorical vairanle to category and order level by mean salary in each category\n",
        "        mean = df.groupby(column)['salary'].mean()\n",
        "        df[column] = df[column].astype('category')\n",
        "        levels = mean.sort_values().index.tolist()\n",
        "        df[column].cat.reorder_categories(levels, inplace = True)\n",
        "        df[column].value_counts().plot()\n",
        "    plt.xticks(rotation=45)\n",
        "    plt.xlabel(column)\n",
        "    plt.ylabel(\"Counts\")\n",
        "\n",
        "    plt.subplot(1,2,2)\n",
        "    \n",
        "    if df[column].dtype == 'int64' or column == 'companyId':\n",
        "        #plot mean salary, fill between (mean - std, mean + std)\n",
        "        mean = df.groupby(column)['salary'].mean()\n",
        "        std = df.groupby(column)['salary'].std()\n",
        "        mean.plot()\n",
        "        plt.fill_between(range(len(std.index)), mean.values-std.values, mean.values + std.values, alpha = 0.1)\n",
        "    \n",
        "    else:\n",
        "        sns.boxplot(x=column, y='salary', data=df)\n",
        "        \n",
        "    plt.xticks(rotation=45)\n",
        "    plt.ylabel('Salaries')\n",
        "    plt.show()"
      ],
      "execution_count": 33,
      "outputs": []
    },
    {
      "cell_type": "code",
      "metadata": {
        "id": "ejAy3avttEcL",
        "colab_type": "code",
        "colab": {
          "base_uri": "https://localhost:8080/",
          "height": 378
        },
        "outputId": "8c1a911b-3a53-4102-92ed-2d32ca342002"
      },
      "source": [
        "plot_feature(train_df, 'companyId')"
      ],
      "execution_count": 34,
      "outputs": [
        {
          "output_type": "display_data",
          "data": {
            "image/png": "[encoded data removed]",
            "text/plain": [
              "<Figure size 936x432 with 2 Axes>"
            ]
          },
          "metadata": {
            "tags": [],
            "needs_background": "light"
          }
        }
      ]
    },
    {
      "cell_type": "markdown",
      "metadata": {
        "id": "Mdvv8LZ6vDb7",
        "colab_type": "text"
      },
      "source": [
        "It is clear that the CompanyId has no correlation with the salary as expected since the salary varies with different roles in the company."
      ]
    },
    {
      "cell_type": "markdown",
      "metadata": {
        "id": "F7ViI9KcQt6U",
        "colab_type": "text"
      },
      "source": [
        "CompanyId can then be dropped from the training data as it shows no sigificance over the salary for prediction purpose."
      ]
    },
    {
      "cell_type": "code",
      "metadata": {
        "id": "jQuxnxIhugpK",
        "colab_type": "code",
        "colab": {
          "base_uri": "https://localhost:8080/",
          "height": 445
        },
        "outputId": "acc3e05d-3fb1-4068-c3a8-8fbdf6fc8b4e"
      },
      "source": [
        "plot_feature(train_df, 'jobType')"
      ],
      "execution_count": 35,
      "outputs": [
        {
          "output_type": "display_data",
          "data": {
            "image/png": "[encoded data removed]",
            "text/plain": [
              "<Figure size 936x432 with 2 Axes>"
            ]
          },
          "metadata": {
            "tags": [],
            "needs_background": "light"
          }
        }
      ]
    },
    {
      "cell_type": "markdown",
      "metadata": {
        "id": "L85BR0zKvjkG",
        "colab_type": "text"
      },
      "source": [
        "Salary varies with the jobType as higher level positions usually tend to get higher salary."
      ]
    },
    {
      "cell_type": "code",
      "metadata": {
        "id": "9K7ygpyvvX5i",
        "colab_type": "code",
        "colab": {
          "base_uri": "https://localhost:8080/",
          "height": 441
        },
        "outputId": "86d8a6a2-aae7-4544-a829-69f4d8339c40"
      },
      "source": [
        "plot_feature(train_df, 'degree')"
      ],
      "execution_count": 36,
      "outputs": [
        {
          "output_type": "display_data",
          "data": {
            "image/png": "[encoded data removed]",
            "text/plain": [
              "<Figure size 936x432 with 2 Axes>"
            ]
          },
          "metadata": {
            "tags": [],
            "needs_background": "light"
          }
        }
      ]
    },
    {
      "cell_type": "markdown",
      "metadata": {
        "id": "ncIDDI0pxKiM",
        "colab_type": "text"
      },
      "source": [
        "A college degree corresponds to having higher salary thank high school or no education. Clearly, salary seems to increase with the advance in degree."
      ]
    },
    {
      "cell_type": "code",
      "metadata": {
        "id": "3ISGQvJrxH_-",
        "colab_type": "code",
        "colab": {
          "base_uri": "https://localhost:8080/",
          "height": 434
        },
        "outputId": "35448320-67e3-445f-9858-c2fdce73a05f"
      },
      "source": [
        "plot_feature(train_df, 'major')"
      ],
      "execution_count": 37,
      "outputs": [
        {
          "output_type": "display_data",
          "data": {
            "image/png": "[encoded data removed]",
            "text/plain": [
              "<Figure size 936x432 with 2 Axes>"
            ]
          },
          "metadata": {
            "tags": [],
            "needs_background": "light"
          }
        }
      ]
    },
    {
      "cell_type": "markdown",
      "metadata": {
        "id": "-ljagBhGxlkF",
        "colab_type": "text"
      },
      "source": [
        "Having a major definitely leads to a better pay as is indicative from the plot. Engineering, business and math majors have the highest pay among other majors in the data."
      ]
    },
    {
      "cell_type": "code",
      "metadata": {
        "id": "woz44AGUxkYc",
        "colab_type": "code",
        "colab": {
          "base_uri": "https://localhost:8080/",
          "height": 426
        },
        "outputId": "10fc0059-a429-4799-a298-b03643a96ded"
      },
      "source": [
        "plot_feature(train_df, 'industry')"
      ],
      "execution_count": 38,
      "outputs": [
        {
          "output_type": "display_data",
          "data": {
            "image/png": "[encoded data removed]",
            "text/plain": [
              "<Figure size 936x432 with 2 Axes>"
            ]
          },
          "metadata": {
            "tags": [],
            "needs_background": "light"
          }
        }
      ]
    },
    {
      "cell_type": "markdown",
      "metadata": {
        "id": "bZXuAkfsSrAO",
        "colab_type": "text"
      },
      "source": [
        "Oil industries pay the highest followed by Finance and Education industry pays the least among others."
      ]
    },
    {
      "cell_type": "code",
      "metadata": {
        "id": "8eCvobQ52lz9",
        "colab_type": "code",
        "colab": {
          "base_uri": "https://localhost:8080/",
          "height": 394
        },
        "outputId": "4576d78e-3bd3-496e-aac4-0e4f66bc3109"
      },
      "source": [
        "plot_feature(train_df, 'yearsExperience')"
      ],
      "execution_count": 39,
      "outputs": [
        {
          "output_type": "display_data",
          "data": {
            "image/png": "[encoded data removed]",
            "text/plain": [
              "<Figure size 936x432 with 2 Axes>"
            ]
          },
          "metadata": {
            "tags": [],
            "needs_background": "light"
          }
        }
      ]
    },
    {
      "cell_type": "markdown",
      "metadata": {
        "id": "b6YdHKsDS8rE",
        "colab_type": "text"
      },
      "source": [
        "Salary tends to increse with experience showing a positive trend."
      ]
    },
    {
      "cell_type": "code",
      "metadata": {
        "id": "cPLvNTCC2qHl",
        "colab_type": "code",
        "colab": {
          "base_uri": "https://localhost:8080/",
          "height": 398
        },
        "outputId": "aecdd1c5-74e9-4ad9-d1f9-df8e5ceb9b58"
      },
      "source": [
        "plot_feature(train_df, 'milesFromMetropolis')"
      ],
      "execution_count": 40,
      "outputs": [
        {
          "output_type": "display_data",
          "data": {
            "image/png": "[encoded data removed]",
            "text/plain": [
              "<Figure size 936x432 with 2 Axes>"
            ]
          },
          "metadata": {
            "tags": [],
            "needs_background": "light"
          }
        }
      ]
    },
    {
      "cell_type": "markdown",
      "metadata": {
        "id": "185vRHpuTHFE",
        "colab_type": "text"
      },
      "source": [
        "Employees residing in the urban areas get paid the highest and salary decreases as they move out of the urban areas which is the usual case in the business world."
      ]
    },
    {
      "cell_type": "markdown",
      "metadata": {
        "id": "vvlVxoqt3Fwm",
        "colab_type": "text"
      },
      "source": [
        "##**Data Encoding**"
      ]
    },
    {
      "cell_type": "code",
      "metadata": {
        "id": "FB4MdSI03oGX",
        "colab_type": "code",
        "colab": {}
      },
      "source": [
        "def one_hot_encoding(df, cat_variables=None, num_variables=None):\n",
        "    cat_df = pd.get_dummies(df[cat_variables])\n",
        "    num_df = df[num_variables].apply(pd.to_numeric)\n",
        "    return pd.concat([cat_df, num_df], axis=1)"
      ],
      "execution_count": 41,
      "outputs": []
    },
    {
      "cell_type": "code",
      "metadata": {
        "id": "MjDflIFvVK1G",
        "colab_type": "code",
        "colab": {}
      },
      "source": [
        "train_df.drop(['jobId','companyId'], axis=1, inplace=True)"
      ],
      "execution_count": 42,
      "outputs": []
    },
    {
      "cell_type": "code",
      "metadata": {
        "id": "KBpbmsDOUkBn",
        "colab_type": "code",
        "colab": {}
      },
      "source": [
        "##Remove jobId and companyId from the list\n",
        "categorical_cols = ['jobType','degree','major','industry'] \n",
        "##Add salary column to the numeric columns list\n",
        "numeric_cols = [\"yearsExperience\", \"milesFromMetropolis\", \"salary\"] "
      ],
      "execution_count": 43,
      "outputs": []
    },
    {
      "cell_type": "code",
      "metadata": {
        "id": "gmHMeIS23uqG",
        "colab_type": "code",
        "colab": {}
      },
      "source": [
        "train_df_encoded = one_hot_encoding(train_df, categorical_cols, numeric_cols)"
      ],
      "execution_count": 44,
      "outputs": []
    },
    {
      "cell_type": "markdown",
      "metadata": {
        "id": "V4GW4uL9Vws3",
        "colab_type": "text"
      },
      "source": [
        "**Correlation Plot**"
      ]
    },
    {
      "cell_type": "markdown",
      "metadata": {
        "id": "Li_xnSKwWEHA",
        "colab_type": "text"
      },
      "source": [
        "Since all the fatures are encoded, it is now possible to find the correlation between salary and the encoded categorical features."
      ]
    },
    {
      "cell_type": "code",
      "metadata": {
        "id": "MwqbeF0jhoIV",
        "colab_type": "code",
        "colab": {
          "base_uri": "https://localhost:8080/",
          "height": 603
        },
        "outputId": "3fb8ec15-a410-42a4-e923-3eac454e2b9e"
      },
      "source": [
        "corr = train_df_encoded.corr()\n",
        "mask = np.triu(np.ones_like(corr, dtype=np.bool))\n",
        "fig, ax = plt.subplots(figsize = (12,8))\n",
        "cmap = sns.diverging_palette(10, 133, s=80, n=7, as_cmap = True)\n",
        "hmap = sns.heatmap(corr, mask=mask, cmap=cmap, vmax=1, \n",
        "                   vmin=-1, center=0, square=True, linewidth=0.2)"
      ],
      "execution_count": 64,
      "outputs": [
        {
          "output_type": "display_data",
          "data": {
            "image/png": "[encoded data removed]",
            "text/plain": [
              "<Figure size 864x576 with 2 Axes>"
            ]
          },
          "metadata": {
            "tags": [],
            "needs_background": "light"
          }
        }
      ]
    },
    {
      "cell_type": "markdown",
      "metadata": {
        "id": "qmD6boxzlPvn",
        "colab_type": "text"
      },
      "source": [
        "**Split the training data to training set and validation set in a 80:20 ratio.**"
      ]
    },
    {
      "cell_type": "code",
      "metadata": {
        "id": "ABorD1BXkwC0",
        "colab_type": "code",
        "colab": {
          "base_uri": "https://localhost:8080/",
          "height": 51
        },
        "outputId": "654edfa0-f7f0-4beb-f4c5-1fb25af3c8c3"
      },
      "source": [
        "features = train_df_encoded.drop('salary', axis=1)\n",
        "target = train_df_encoded['salary']\n",
        "\n",
        "feat_train, feat_valid, target_train, target_valid = train_test_split(features, target, test_size=0.2, random_state=999)\n",
        "print(\"Number of training samples:\", feat_train.shape[0])\n",
        "print(\"Number of validation samples:\", feat_valid.shape[0])"
      ],
      "execution_count": 65,
      "outputs": [
        {
          "output_type": "stream",
          "text": [
            "Number of training samples: 799996\n",
            "Number of validation samples: 199999\n"
          ],
          "name": "stdout"
        }
      ]
    },
    {
      "cell_type": "markdown",
      "metadata": {
        "id": "u5lX4IspqlCN",
        "colab_type": "text"
      },
      "source": [
        "##**Model Building**"
      ]
    },
    {
      "cell_type": "markdown",
      "metadata": {
        "id": "uIDgjUF6qD2B",
        "colab_type": "text"
      },
      "source": [
        "**Having performed EDA and establishing that this is a regression problem, we know that we are to predict the continuous variable, salary from the cleaned data.**\n",
        "\n",
        "---\n",
        "\n",
        "Establish Simple linear regression as the baseline model."
      ]
    },
    {
      "cell_type": "markdown",
      "metadata": {
        "id": "8p06uZiqJtz8",
        "colab_type": "text"
      },
      "source": [
        "###**Establish a Baseline** - Linear Regression"
      ]
    },
    {
      "cell_type": "code",
      "metadata": {
        "id": "7X0Ik6MVpzmo",
        "colab_type": "code",
        "colab": {
          "base_uri": "https://localhost:8080/",
          "height": 34
        },
        "outputId": "eb0d09cd-06e1-48f5-8e59-8d4c47650612"
      },
      "source": [
        "lr = LinearRegression()\n",
        "lr.fit(feat_train, target_train)"
      ],
      "execution_count": 66,
      "outputs": [
        {
          "output_type": "execute_result",
          "data": {
            "text/plain": [
              "LinearRegression(copy_X=True, fit_intercept=True, n_jobs=None, normalize=False)"
            ]
          },
          "metadata": {
            "tags": []
          },
          "execution_count": 66
        }
      ]
    },
    {
      "cell_type": "code",
      "metadata": {
        "id": "xz88qhNYriZ3",
        "colab_type": "code",
        "colab": {
          "base_uri": "https://localhost:8080/",
          "height": 170
        },
        "outputId": "162d8e32-c1b9-4003-a0f4-e453fd13a272"
      },
      "source": [
        "##Intercept and slope of the Linear Regression model\n",
        "print(\"The slope of the linear regression model is\", lr.coef_)\n",
        "print(\"the intercept of the linear regression model is\", lr.intercept_)"
      ],
      "execution_count": 67,
      "outputs": [
        {
          "output_type": "stream",
          "text": [
            "The slope of the linear regression model is [ 3.84166821e+05  3.84179394e+05  3.84189430e+05  3.84199309e+05\n",
            "  3.84209200e+05  3.84219371e+05  3.84219374e+05  3.84229181e+05\n",
            "  2.99602397e+10  2.99602397e+10  2.99602397e+10  2.99602397e+10\n",
            "  2.99602397e+10  6.30455138e+10  6.30455138e+10  6.30455138e+10\n",
            "  6.30455138e+10  6.30455138e+10  6.30455138e+10  6.30455138e+10\n",
            "  6.30455138e+10  6.30455138e+10  6.47270106e+10  6.47270106e+10\n",
            "  6.47270106e+10  6.47270106e+10  6.47270106e+10  6.47270107e+10\n",
            "  6.47270107e+10  2.01032772e+00 -3.99691030e-01]\n",
            "the intercept of the linear regression model is -157733148191.46216\n"
          ],
          "name": "stdout"
        }
      ]
    },
    {
      "cell_type": "markdown",
      "metadata": {
        "id": "fNUD7BrlsJ1a",
        "colab_type": "text"
      },
      "source": [
        "**Evaluating model accuracy using MSE and R-squared**"
      ]
    },
    {
      "cell_type": "markdown",
      "metadata": {
        "id": "F7eNukuU02dZ",
        "colab_type": "text"
      },
      "source": [
        "**R-squared** also known as the coefficient of determination, is a measure to indicate how close the data is to the fitted regression line.\n",
        "\n",
        "The value of the **R-squared** is the percentage of the variation of response variable(y) that is explained by the linear model.\n",
        "\n",
        "\n",
        "The **mean squared error** measures the average of the squares of errors, that is, difference between actual value and the estimated value."
      ]
    },
    {
      "cell_type": "code",
      "metadata": {
        "id": "QJvJmRSesJom",
        "colab_type": "code",
        "colab": {
          "base_uri": "https://localhost:8080/",
          "height": 68
        },
        "outputId": "f20249af-de4b-4e0e-df38-fb9b8438875a"
      },
      "source": [
        "pred_salary_lr = lr.predict(feat_valid)   ##Predicting the validation data   \n",
        "print(\"Mean Squared Error of the linear regression model on training data is: \", mean_squared_error(target_train, lr.predict(feat_train)))\n",
        "print(\"Mean Squared Error of the linear regression model on validation data is: \", mean_squared_error(target_valid, pred_salary_lr))\n",
        "print(\"The R-square is: \", round(r2_score(target_valid, pred_salary_lr),3))"
      ],
      "execution_count": 93,
      "outputs": [
        {
          "output_type": "stream",
          "text": [
            "Mean Squared Error of the linear regression model on training data is:  384.50347069720505\n",
            "Mean Squared Error of the linear regression model on validation data is:  383.90378203326236\n",
            "The R-square is:  0.743\n"
          ],
          "name": "stdout"
        }
      ]
    },
    {
      "cell_type": "code",
      "metadata": {
        "id": "0B2w1KXYr-Rw",
        "colab_type": "code",
        "colab": {
          "base_uri": "https://localhost:8080/",
          "height": 34
        },
        "outputId": "f0ef8797-9c8f-4bcd-8e23-6aa089bd67a5"
      },
      "source": [
        "##Prediction accuracy using 10-fold cross validation\n",
        "cv_score = cross_val_score(lr, feat_valid, target_valid, cv=10)\n",
        "print(\"The 10-fold cross validation accuracy is: \", (cv_score.mean(), cv_score.std()))"
      ],
      "execution_count": 69,
      "outputs": [
        {
          "output_type": "stream",
          "text": [
            "The 10-fold cross validation accuracy is:  (0.7431948575446784, 0.001735187005511207)\n"
          ],
          "name": "stdout"
        }
      ]
    },
    {
      "cell_type": "markdown",
      "metadata": {
        "id": "0mP9sHtAvApw",
        "colab_type": "text"
      },
      "source": [
        "**Distribution plot for effective demonstration of how the predicted values of the training data are distributed.**"
      ]
    },
    {
      "cell_type": "code",
      "metadata": {
        "id": "A-bQb7FluNis",
        "colab_type": "code",
        "colab": {}
      },
      "source": [
        "##Define the function for Distribution plot\n",
        "\n",
        "def DistributionPlot(valid_df, pred_valid, name1, name2, Title):\n",
        "  width = 10\n",
        "  height = 8\n",
        "  plt.figure(figsize=(width, height))\n",
        "\n",
        "  ax1 = sns.distplot(valid_df, hist=False, color=\"r\", label = name1)\n",
        "  ax2 = sns.distplot(pred_valid, hist=False, color=\"b\", label=name2, ax=ax1)\n",
        "\n",
        "  plt.title(Title)\n",
        "  plt.xlabel(\"salary\")\n",
        "  plt.ylabel(\"Mean values\")\n",
        "  plt.show()\n",
        "  plt.close()"
      ],
      "execution_count": 70,
      "outputs": []
    },
    {
      "cell_type": "code",
      "metadata": {
        "id": "wyRj4Q6zxQVI",
        "colab_type": "code",
        "colab": {
          "base_uri": "https://localhost:8080/",
          "height": 513
        },
        "outputId": "a208bdb9-16bb-4653-d48d-3de27faf8c32"
      },
      "source": [
        "##Distribution plot for the validation data\n",
        "Title = \"Distribution plot of Actual vs Predicted values with validation data\"\n",
        "DistributionPlot(target_valid, pred_salary_lr, \"Actual Values (validation)\",\n",
        "                 \"Predicted Values (validation)\", Title)"
      ],
      "execution_count": 71,
      "outputs": [
        {
          "output_type": "display_data",
          "data": {
            "image/png": "[encoded data removed]",
            "text/plain": [
              "<Figure size 720x576 with 1 Axes>"
            ]
          },
          "metadata": {
            "tags": [],
            "needs_background": "light"
          }
        }
      ]
    },
    {
      "cell_type": "markdown",
      "metadata": {
        "id": "MVV8AFTExY17",
        "colab_type": "text"
      },
      "source": [
        "Plots are nearly the same with few minor differences such as the mean of the predicted values is high and the range of the predicted values is less."
      ]
    },
    {
      "cell_type": "markdown",
      "metadata": {
        "id": "edbjgCguyVpU",
        "colab_type": "text"
      },
      "source": [
        "###Hypothesize Solution"
      ]
    },
    {
      "cell_type": "markdown",
      "metadata": {
        "id": "LhWGY-R_ydSP",
        "colab_type": "text"
      },
      "source": [
        "We have an MSE score of 383.9 from the baseline model with 74.3% accuracy.\n",
        "\n",
        "---\n",
        "We can attempt to improve the score by comparing our baseline model against the following models:\n",
        "\n",
        "\n",
        "1.   Polynomial Transformation\n",
        "2.   Ridge Regression\n",
        "3.   Random Forest Regressor\n",
        "4.   Gradient Boosting Regressor\n",
        "\n",
        "\n"
      ]
    },
    {
      "cell_type": "code",
      "metadata": {
        "id": "LLONpgT-yBh0",
        "colab_type": "code",
        "colab": {
          "base_uri": "https://localhost:8080/",
          "height": 87
        },
        "outputId": "7c0a1f5e-09bf-41f6-f364-33854a2d5286"
      },
      "source": [
        "#Training and validation sets size\n",
        "print(\"Feature training set shape: \", feat_train.shape)\n",
        "print(\"Feature validation set shape: \", feat_valid.shape)\n",
        "print(\"Target training set shape: \", target_train.shape)\n",
        "print(\"Target validation set shape: \", target_valid.shape)"
      ],
      "execution_count": 72,
      "outputs": [
        {
          "output_type": "stream",
          "text": [
            "Feature training set shape:  (799996, 31)\n",
            "Feature validation set shape:  (199999, 31)\n",
            "Target training set shape:  (799996,)\n",
            "Target validation set shape:  (199999,)\n"
          ],
          "name": "stdout"
        }
      ]
    },
    {
      "cell_type": "markdown",
      "metadata": {
        "id": "GlACwmOTz9PY",
        "colab_type": "text"
      },
      "source": [
        "###Polynomial Transformation"
      ]
    },
    {
      "cell_type": "markdown",
      "metadata": {
        "id": "yO922mAV0QWQ",
        "colab_type": "text"
      },
      "source": [
        "Applying second order polynomial"
      ]
    },
    {
      "cell_type": "code",
      "metadata": {
        "id": "vj7LA-3xz2k4",
        "colab_type": "code",
        "colab": {
          "base_uri": "https://localhost:8080/",
          "height": 52
        },
        "outputId": "b41b4b7a-9ba4-45ca-acfa-7ec6313d11ec"
      },
      "source": [
        "#Creating an object for polynomial transformation\n",
        "pt = PolynomialFeatures(2)\n",
        "feat_train_p = pt.fit_transform(feat_train)\n",
        "feat_valid_p = pt.fit_transform(feat_valid)\n",
        "print(pt)"
      ],
      "execution_count": 75,
      "outputs": [
        {
          "output_type": "stream",
          "text": [
            "PolynomialFeatures(degree=2, include_bias=True, interaction_only=False,\n",
            "                   order='C')\n"
          ],
          "name": "stdout"
        }
      ]
    },
    {
      "cell_type": "code",
      "metadata": {
        "id": "S-T4piB_Ywsh",
        "colab_type": "code",
        "colab": {
          "base_uri": "https://localhost:8080/",
          "height": 52
        },
        "outputId": "fc8286bf-ae51-4c71-bb82-38984c29459e"
      },
      "source": [
        "##Applying polynomial regression on the training data\n",
        "plr = LinearRegression()\n",
        "plr.fit(feat_train_p, target_train)\n",
        "\n",
        "##Predicting salaries after fitting polynomial regression on the training data\n",
        "pred_salary_plr = plr.predict(feat_valid_p)\n",
        "pred_salary_plr"
      ],
      "execution_count": 76,
      "outputs": [
        {
          "output_type": "execute_result",
          "data": {
            "text/plain": [
              "array([127.70298672, 122.26709127, 188.26353323, ...,  76.47077835,\n",
              "        53.31402206, 165.51636028])"
            ]
          },
          "metadata": {
            "tags": []
          },
          "execution_count": 76
        }
      ]
    },
    {
      "cell_type": "code",
      "metadata": {
        "id": "j0fz8PtqZb7y",
        "colab_type": "code",
        "colab": {
          "base_uri": "https://localhost:8080/",
          "height": 52
        },
        "outputId": "964c7539-c7a6-4636-b778-8a0636b1004d"
      },
      "source": [
        "print(\"First 5 predicted salaries in the validation data: \", pred_salary_plr[0:5])\n",
        "print(\"First 5 actual salaries in the validation data: \", target_valid[0:5].values)"
      ],
      "execution_count": 77,
      "outputs": [
        {
          "output_type": "stream",
          "text": [
            "First 5 predicted salaries in the validation data:  [127.70298672 122.26709127 188.26353323 104.53563201  64.65615416]\n",
            "First 5 actual salaries in the validation data:  [118 134 170  99  59]\n"
          ],
          "name": "stdout"
        }
      ]
    },
    {
      "cell_type": "code",
      "metadata": {
        "id": "en-xQLAkaO9y",
        "colab_type": "code",
        "colab": {
          "base_uri": "https://localhost:8080/",
          "height": 513
        },
        "outputId": "9cee947b-a7fc-4488-a314-b80cf63d763c"
      },
      "source": [
        "##Comparing actual and predicted values with distribution plot\n",
        "Title = \"Distribution plot of Actual vs. Predcited values on the Validation Data\"\n",
        "DistributionPlot(target_valid, pred_salary_plr, \"Actual Values (Validation)\",\n",
        "                 \"Predcited Values (Validation)\", Title)"
      ],
      "execution_count": 79,
      "outputs": [
        {
          "output_type": "display_data",
          "data": {
            "image/png": "[encoded data removed]",
            "text/plain": [
              "<Figure size 720x576 with 1 Axes>"
            ]
          },
          "metadata": {
            "tags": [],
            "needs_background": "light"
          }
        }
      ]
    },
    {
      "cell_type": "code",
      "metadata": {
        "id": "lhjWc4UMa2WJ",
        "colab_type": "code",
        "colab": {
          "base_uri": "https://localhost:8080/",
          "height": 70
        },
        "outputId": "b6b0706c-0181-433f-a71d-8d3a7962cab7"
      },
      "source": [
        "##Model Evaluation\n",
        "print(\"Mean Squared Error of the Polynomoal Regression model on training data is: \", \n",
        "      mean_squared_error(target_train, plr.predict(feat_train_p)))\n",
        "print(\"Mean Squared Error of the Polynomial Regression model on validation data is: \", \n",
        "      mean_squared_error(target_valid, pred_salary_plr))\n",
        "print(\"R Squared on the validation set is: \", round(r2_score(target_valid,pred_salary_plr),3))"
      ],
      "execution_count": 91,
      "outputs": [
        {
          "output_type": "stream",
          "text": [
            "Mean Squared Error of the Polynomoal Regression model on training data is:  353.8297657270023\n",
            "Mean Squared Error of the Polynomial Regression model on validation data is:  353.42169646151086\n",
            "R Squared on the validation set is:  0.764\n"
          ],
          "name": "stdout"
        }
      ]
    },
    {
      "cell_type": "code",
      "metadata": {
        "id": "gxzDz0_znWJj",
        "colab_type": "code",
        "colab": {}
      },
      "source": [
        "cv_score_plr = cross_val_score(plr, feat_valid_p, target_valid, cv=10 )"
      ],
      "execution_count": 81,
      "outputs": []
    },
    {
      "cell_type": "code",
      "metadata": {
        "id": "LMY0LH8pkxsS",
        "colab_type": "code",
        "colab": {
          "base_uri": "https://localhost:8080/",
          "height": 35
        },
        "outputId": "0aa31d10-d8c5-4c0b-96ee-15ba575eafec"
      },
      "source": [
        "print(\"Accuracy of the model on 10-fold Cross Validation is: \", cv_score_plr.mean())"
      ],
      "execution_count": 82,
      "outputs": [
        {
          "output_type": "stream",
          "text": [
            "Accuracy of the model on 10-fold Cross Validation is:  0.7633100979604738\n"
          ],
          "name": "stdout"
        }
      ]
    },
    {
      "cell_type": "markdown",
      "metadata": {
        "id": "9UDVq2FRgi-S",
        "colab_type": "text"
      },
      "source": [
        "**There is a significant improvement in the MSE and prediction accuracy on polynomial transformation of the feature variables.**"
      ]
    },
    {
      "cell_type": "markdown",
      "metadata": {
        "id": "HSMwcnEKhT9U",
        "colab_type": "text"
      },
      "source": [
        "###Ridge Regressor"
      ]
    },
    {
      "cell_type": "code",
      "metadata": {
        "id": "gStX0TRbfNQH",
        "colab_type": "code",
        "colab": {}
      },
      "source": [
        "##Create a Ridge Regressor object\n",
        "rrg = RidgeCV(alphas=[0.0001, 0.001, 0.01, 0.1, 1, 2, 5, 10], cv=10)\n",
        "rrg.fit(feat_train_p, target_train)"
      ],
      "execution_count": null,
      "outputs": []
    },
    {
      "cell_type": "code",
      "metadata": {
        "id": "klEZm7S74jwF",
        "colab_type": "code",
        "colab": {
          "base_uri": "https://localhost:8080/",
          "height": 35
        },
        "outputId": "fdeb6b05-7e2a-4040-9f8a-549c77a06b85"
      },
      "source": [
        "print(\"The R-squared score is:\", rrg.score(feat_valid_p, target_valid))"
      ],
      "execution_count": 84,
      "outputs": [
        {
          "output_type": "stream",
          "text": [
            "The R-squared score is: 0.7636355960795026\n"
          ],
          "name": "stdout"
        }
      ]
    },
    {
      "cell_type": "code",
      "metadata": {
        "id": "_wWuzpnKpI5U",
        "colab_type": "code",
        "colab": {
          "base_uri": "https://localhost:8080/",
          "height": 52
        },
        "outputId": "920e6109-7aad-49f2-f498-7f5a321ab538"
      },
      "source": [
        "##Predict salaries after applying Ridge regression\n",
        "pred_salary_rrg = rrg.predict(feat_valid_p)\n",
        "print(\"First 5 predicted salaries on validation data: \", pred_salary_rrg[0:5])\n",
        "print(\"First 5 Actual values of salaries in the validation data: \", target_valid[0:5].values)"
      ],
      "execution_count": 86,
      "outputs": [
        {
          "output_type": "stream",
          "text": [
            "First 5 predicted salaries on validation data:  [127.70828223 122.23763878 188.26704916 104.50594335  64.62277698]\n",
            "First 5 Actual values of salaries in the validation data:  [118 134 170  99  59]\n"
          ],
          "name": "stdout"
        }
      ]
    },
    {
      "cell_type": "code",
      "metadata": {
        "id": "M69-57jeqMCz",
        "colab_type": "code",
        "colab": {
          "base_uri": "https://localhost:8080/",
          "height": 513
        },
        "outputId": "fe87edc5-8a93-4388-dc3d-3b31348779e4"
      },
      "source": [
        "##Comparing actual and predicted values with distribution plot\n",
        "Title = \"Distribution plot of Actual values vs Predicted values\"\n",
        "DistributionPlot(target_valid, pred_salary_rrg, \"Actual Values (Validation data)\",\n",
        "                 \"Predicted Values (Validation data)\", Title)"
      ],
      "execution_count": 87,
      "outputs": [
        {
          "output_type": "display_data",
          "data": {
            "image/png": "[encoded data removed]",
            "text/plain": [
              "<Figure size 720x576 with 1 Axes>"
            ]
          },
          "metadata": {
            "tags": [],
            "needs_background": "light"
          }
        }
      ]
    },
    {
      "cell_type": "code",
      "metadata": {
        "id": "KxytU201qt8G",
        "colab_type": "code",
        "colab": {
          "base_uri": "https://localhost:8080/",
          "height": 70
        },
        "outputId": "15437ee0-b844-45d1-a34f-7a186576f002"
      },
      "source": [
        "##Evaluation of the ridge regression model\n",
        "print(\"Mean squared error of the model on training data is: \", mean_squared_error(target_train, rrg.predict(feat_train_p))) \n",
        "print(\"Mean squared error of the model on validation data is: \", mean_squared_error(target_valid, pred_salary_rrg))\n",
        "print(\"Valid Data R-square is: \", round(r2_score(target_valid,pred_salary_rrg),3))"
      ],
      "execution_count": 90,
      "outputs": [
        {
          "output_type": "stream",
          "text": [
            "Mean squared error of the model on training data is:  353.8283693961812\n",
            "Mean squared error of the model on validation data is:  353.41867583920487\n",
            "Valid Data R-square is:  0.764\n"
          ],
          "name": "stdout"
        }
      ]
    },
    {
      "cell_type": "markdown",
      "metadata": {
        "id": "mIZTExu_rhZL",
        "colab_type": "text"
      },
      "source": [
        "There is no significant improvement over polynomial linear regression.\n",
        "\n",
        "\n",
        "\n"
      ]
    },
    {
      "cell_type": "markdown",
      "metadata": {
        "id": "csYBUjSyvTTZ",
        "colab_type": "text"
      },
      "source": [
        "###Random Forest Regressor\n"
      ]
    },
    {
      "cell_type": "code",
      "metadata": {
        "id": "H1yjDo03rcKx",
        "colab_type": "code",
        "colab": {
          "base_uri": "https://localhost:8080/",
          "height": 369
        },
        "outputId": "3b3a41ca-9565-4c6f-9874-165e59a26441"
      },
      "source": [
        "##Create a random forest regressor object\n",
        "rf = RandomForestRegressor(random_state=99)\n",
        "print(\"Parameters currently in use: \\n\")\n",
        "pprint(rf.get_params())"
      ],
      "execution_count": 92,
      "outputs": [
        {
          "output_type": "stream",
          "text": [
            "Parameters currently in use: \n",
            "\n",
            "{'bootstrap': True,\n",
            " 'ccp_alpha': 0.0,\n",
            " 'criterion': 'mse',\n",
            " 'max_depth': None,\n",
            " 'max_features': 'auto',\n",
            " 'max_leaf_nodes': None,\n",
            " 'max_samples': None,\n",
            " 'min_impurity_decrease': 0.0,\n",
            " 'min_impurity_split': None,\n",
            " 'min_samples_leaf': 1,\n",
            " 'min_samples_split': 2,\n",
            " 'min_weight_fraction_leaf': 0.0,\n",
            " 'n_estimators': 100,\n",
            " 'n_jobs': None,\n",
            " 'oob_score': False,\n",
            " 'random_state': 99,\n",
            " 'verbose': 0,\n",
            " 'warm_start': False}\n"
          ],
          "name": "stdout"
        }
      ]
    },
    {
      "cell_type": "markdown",
      "metadata": {
        "id": "Mtpk0RY-yB7h",
        "colab_type": "text"
      },
      "source": [
        "**Random Hyperparameter Grid**"
      ]
    },
    {
      "cell_type": "code",
      "metadata": {
        "id": "Yc4OTNX0w6Fj",
        "colab_type": "code",
        "colab": {
          "base_uri": "https://localhost:8080/",
          "height": 70
        },
        "outputId": "510d1548-d609-4f98-f363-fc52d3ec9acc"
      },
      "source": [
        "#Number of trees in Random Forest\n",
        "n_estimators = [1, 2, 4, 8, 16, 32, 64, 100, 200]\n",
        "#Number of features to consider at every split\n",
        "max_features = ['auto', 'sqrt']\n",
        "#Maximum number of levels in tree\n",
        "max_depth = [int(x) for x in np.linspace(10, 100, num=2)]\n",
        "max_depth.append(None)\n",
        "#Minimum number of samples required to split a node\n",
        "min_samples_split = [2, 10]\n",
        "#Minimum number of samples required at each leaf node\n",
        "min_samples_leaf = [1, 2, 4]\n",
        "#Method of selecting samples for training each tree\n",
        "bootstrap = [True, False]\n",
        "\n",
        "param_grid = {'n_estimators': n_estimators,'max_depth': max_depth, 'min_samples_split': min_samples_split}\n",
        "pprint(param_grid)"
      ],
      "execution_count": 94,
      "outputs": [
        {
          "output_type": "stream",
          "text": [
            "{'max_depth': [10, 100, None],\n",
            " 'min_samples_split': [2, 10],\n",
            " 'n_estimators': [1, 2, 4, 8, 16, 32, 64, 100, 200]}\n"
          ],
          "name": "stdout"
        }
      ]
    },
    {
      "cell_type": "code",
      "metadata": {
        "id": "ANELzPAu5VzX",
        "colab_type": "code",
        "colab": {}
      },
      "source": [
        "feat_sample = feat_train_p[0:10000]\n",
        "target_sample = target_train[0:10000]"
      ],
      "execution_count": 96,
      "outputs": []
    },
    {
      "cell_type": "code",
      "metadata": {
        "id": "HqVHTR1y0BQF",
        "colab_type": "code",
        "colab": {
          "base_uri": "https://localhost:8080/",
          "height": 492
        },
        "outputId": "db8ab4c1-700d-43bb-a20b-9638ff5e0ce4"
      },
      "source": [
        "rf_rcv = RandomizedSearchCV(estimator=rf, param_distributions=param_grid, cv=3, n_jobs = 4, verbose  = 1, random_state=99)\n",
        "rf_rcv.fit(feat_sample, target_sample)"
      ],
      "execution_count": 99,
      "outputs": [
        {
          "output_type": "stream",
          "text": [
            "Fitting 3 folds for each of 10 candidates, totalling 30 fits\n"
          ],
          "name": "stdout"
        },
        {
          "output_type": "stream",
          "text": [
            "[Parallel(n_jobs=4)]: Using backend LokyBackend with 4 concurrent workers.\n",
            "[Parallel(n_jobs=4)]: Done  30 out of  30 | elapsed:  1.3min finished\n"
          ],
          "name": "stderr"
        },
        {
          "output_type": "execute_result",
          "data": {
            "text/plain": [
              "RandomizedSearchCV(cv=3, error_score=nan,\n",
              "                   estimator=RandomForestRegressor(bootstrap=True,\n",
              "                                                   ccp_alpha=0.0,\n",
              "                                                   criterion='mse',\n",
              "                                                   max_depth=None,\n",
              "                                                   max_features='auto',\n",
              "                                                   max_leaf_nodes=None,\n",
              "                                                   max_samples=None,\n",
              "                                                   min_impurity_decrease=0.0,\n",
              "                                                   min_impurity_split=None,\n",
              "                                                   min_samples_leaf=1,\n",
              "                                                   min_samples_split=2,\n",
              "                                                   min_weight_fraction_leaf=0.0,\n",
              "                                                   n_estimators=100,\n",
              "                                                   n_jobs=None, oob_score=False,\n",
              "                                                   random_state=99, verbose=0,\n",
              "                                                   warm_start=False),\n",
              "                   iid='deprecated', n_iter=10, n_jobs=4,\n",
              "                   param_distributions={'max_depth': [10, 100, None],\n",
              "                                        'min_samples_split': [2, 10],\n",
              "                                        'n_estimators': [1, 2, 4, 8, 16, 32, 64,\n",
              "                                                         100, 200]},\n",
              "                   pre_dispatch='2*n_jobs', random_state=99, refit=True,\n",
              "                   return_train_score=False, scoring=None, verbose=1)"
            ]
          },
          "metadata": {
            "tags": []
          },
          "execution_count": 99
        }
      ]
    },
    {
      "cell_type": "code",
      "metadata": {
        "id": "l5KbuqXn13z9",
        "colab_type": "code",
        "colab": {
          "base_uri": "https://localhost:8080/",
          "height": 140
        },
        "outputId": "ff3ec0b3-c400-4283-ae8b-cff399d34118"
      },
      "source": [
        "rf_rcv.best_estimator_"
      ],
      "execution_count": 100,
      "outputs": [
        {
          "output_type": "execute_result",
          "data": {
            "text/plain": [
              "RandomForestRegressor(bootstrap=True, ccp_alpha=0.0, criterion='mse',\n",
              "                      max_depth=100, max_features='auto', max_leaf_nodes=None,\n",
              "                      max_samples=None, min_impurity_decrease=0.0,\n",
              "                      min_impurity_split=None, min_samples_leaf=1,\n",
              "                      min_samples_split=10, min_weight_fraction_leaf=0.0,\n",
              "                      n_estimators=100, n_jobs=None, oob_score=False,\n",
              "                      random_state=99, verbose=0, warm_start=False)"
            ]
          },
          "metadata": {
            "tags": []
          },
          "execution_count": 100
        }
      ]
    },
    {
      "cell_type": "code",
      "metadata": {
        "id": "-LnaitMlG9xU",
        "colab_type": "code",
        "colab": {
          "base_uri": "https://localhost:8080/",
          "height": 35
        },
        "outputId": "bca4dec8-1c25-4d7c-8663-5a7057c3277a"
      },
      "source": [
        "rf_rcv.best_params_"
      ],
      "execution_count": 101,
      "outputs": [
        {
          "output_type": "execute_result",
          "data": {
            "text/plain": [
              "{'max_depth': 100, 'min_samples_split': 10, 'n_estimators': 100}"
            ]
          },
          "metadata": {
            "tags": []
          },
          "execution_count": 101
        }
      ]
    },
    {
      "cell_type": "code",
      "metadata": {
        "id": "x1gkxr4sNXqY",
        "colab_type": "code",
        "colab": {}
      },
      "source": [
        "rf_best = RandomForestRegressor(bootstrap=True, ccp_alpha=0.0, criterion='mse',\n",
        "                      max_depth=100, max_features='auto', max_leaf_nodes=None,\n",
        "                      max_samples=None, min_impurity_decrease=0.0,\n",
        "                      min_impurity_split=None, min_samples_leaf=1,\n",
        "                      min_samples_split=10, min_weight_fraction_leaf=0.0,\n",
        "                      n_estimators=100, n_jobs=-1, oob_score=False,\n",
        "                      random_state=99, verbose=0, warm_start=False)"
      ],
      "execution_count": 107,
      "outputs": []
    },
    {
      "cell_type": "code",
      "metadata": {
        "id": "Niqo_Zwt3sZ3",
        "colab_type": "code",
        "colab": {
          "base_uri": "https://localhost:8080/",
          "height": 35
        },
        "outputId": "fda600db-1880-4236-845a-45fd459acb85"
      },
      "source": [
        "rf_best.fit(feat_train_p, target_train)\n",
        "rf_best.score(feat_valid_p, target_valid)"
      ],
      "execution_count": 108,
      "outputs": [
        {
          "output_type": "execute_result",
          "data": {
            "text/plain": [
              "0.7288548914738019"
            ]
          },
          "metadata": {
            "tags": []
          },
          "execution_count": 108
        }
      ]
    },
    {
      "cell_type": "code",
      "metadata": {
        "id": "PxJiLfDi3H4T",
        "colab_type": "code",
        "colab": {
          "base_uri": "https://localhost:8080/",
          "height": 52
        },
        "outputId": "943ad438-b961-4248-dc26-9a53b371e49e"
      },
      "source": [
        "##Predict the salaries using Random Forest regressor with the choosen best parameters\n",
        "pred_salary_rf = rf_best.predict(feat_valid_p)\n",
        "print(\"First 5 predicted salaries on validation data: \", pred_salary_rf[0:5])\n",
        "print(\"First 5 Actual values of salaries in the validation data: \", target_valid[0:5].values)"
      ],
      "execution_count": 109,
      "outputs": [
        {
          "output_type": "stream",
          "text": [
            "First 5 predicted salaries on validation data:  [129.1903879  130.27877912 173.98263624 103.31690535  61.87146009]\n",
            "First 5 Actual values of salaries in the validation data:  [118 134 170  99  59]\n"
          ],
          "name": "stdout"
        }
      ]
    },
    {
      "cell_type": "code",
      "metadata": {
        "id": "yJc6vHLq4ZE4",
        "colab_type": "code",
        "colab": {
          "base_uri": "https://localhost:8080/",
          "height": 513
        },
        "outputId": "8e4d9c73-debb-473b-96aa-01b604c4a3f2"
      },
      "source": [
        "##Comparing actual and predicted values with distribution plot\n",
        "Title = \"Distribution plot of Actual values vs Predicted values\"\n",
        "DistributionPlot(target_valid, pred_salary_rf, \"Actual Values (Validation data)\",\n",
        "                 \"Predicted Values (Validation data)\", Title)"
      ],
      "execution_count": 110,
      "outputs": [
        {
          "output_type": "display_data",
          "data": {
            "image/png": "[encoded data removed]",
            "text/plain": [
              "<Figure size 720x576 with 1 Axes>"
            ]
          },
          "metadata": {
            "tags": [],
            "needs_background": "light"
          }
        }
      ]
    },
    {
      "cell_type": "code",
      "metadata": {
        "id": "_TADD1DS4f1a",
        "colab_type": "code",
        "colab": {
          "base_uri": "https://localhost:8080/",
          "height": 52
        },
        "outputId": "7c54299b-4901-4f53-ba75-96f065e1ec32"
      },
      "source": [
        "##Evaluation of the Random Forest model \n",
        "#print(\"Mean squared error of the model on training data is: \", mean_squared_error((target_train, rf_best.predict(feat_train_p))))\n",
        "print(\"Mean squared error of the model on validation data is: \", mean_squared_error(target_valid, pred_salary_rf))\n",
        "print(\"Validation Data R-square is: \", round(r2_score(target_valid,pred_salary_rf),3))"
      ],
      "execution_count": 113,
      "outputs": [
        {
          "output_type": "stream",
          "text": [
            "Mean squared error of the model on validation data is:  405.42375935692354\n",
            "Validation Data R-square is:  0.729\n"
          ],
          "name": "stdout"
        }
      ]
    },
    {
      "cell_type": "markdown",
      "metadata": {
        "id": "7oSaOuVyIb6K",
        "colab_type": "text"
      },
      "source": [
        "The MSE of Random Forest Regressor model is worse than Linear Regression.\n",
        "Polynomial Regression clearly scores higher on both MSE and R-square. "
      ]
    },
    {
      "cell_type": "markdown",
      "metadata": {
        "id": "CpfQn2J3JGOF",
        "colab_type": "text"
      },
      "source": [
        "###Gradient Boosting Regression"
      ]
    },
    {
      "cell_type": "code",
      "metadata": {
        "id": "7TY-iE1lJL4q",
        "colab_type": "code",
        "colab": {
          "base_uri": "https://localhost:8080/",
          "height": 72
        },
        "outputId": "6945050f-23f1-4ed6-d3ab-89ac8ac83ca8"
      },
      "source": [
        "#create a gradient boosting regressor object\n",
        "gbr = GradientBoostingRegressor(random_state=999)\n",
        "print(\"Parameters currently in use: \\n\", gbr.get_params())"
      ],
      "execution_count": 114,
      "outputs": [
        {
          "output_type": "stream",
          "text": [
            "Parameters currently in use: \n",
            " {'alpha': 0.9, 'ccp_alpha': 0.0, 'criterion': 'friedman_mse', 'init': None, 'learning_rate': 0.1, 'loss': 'ls', 'max_depth': 3, 'max_features': None, 'max_leaf_nodes': None, 'min_impurity_decrease': 0.0, 'min_impurity_split': None, 'min_samples_leaf': 1, 'min_samples_split': 2, 'min_weight_fraction_leaf': 0.0, 'n_estimators': 100, 'n_iter_no_change': None, 'presort': 'deprecated', 'random_state': 999, 'subsample': 1.0, 'tol': 0.0001, 'validation_fraction': 0.1, 'verbose': 0, 'warm_start': False}\n"
          ],
          "name": "stdout"
        }
      ]
    },
    {
      "cell_type": "markdown",
      "metadata": {
        "id": "Wdf042jTX4cU",
        "colab_type": "text"
      },
      "source": [
        "**Random Hyperparameter grid**"
      ]
    },
    {
      "cell_type": "code",
      "metadata": {
        "id": "bbd8SavrVWAB",
        "colab_type": "code",
        "colab": {
          "base_uri": "https://localhost:8080/",
          "height": 52
        },
        "outputId": "109f516b-4922-4fe9-c612-71eea9d5dcc7"
      },
      "source": [
        "n_estimators = [100,200,300]\n",
        "learning_rate = [0.001,0.01,0.05,0.1,1,10]\n",
        "param_grid = {'n_estimators': n_estimators, 'learning_rate': learning_rate}\n",
        "pprint(param_grid)"
      ],
      "execution_count": 115,
      "outputs": [
        {
          "output_type": "stream",
          "text": [
            "{'learning_rate': [0.001, 0.01, 0.05, 0.1, 1, 10],\n",
            " 'n_estimators': [100, 200, 300]}\n"
          ],
          "name": "stdout"
        }
      ]
    },
    {
      "cell_type": "code",
      "metadata": {
        "id": "bGZzo9etXvGn",
        "colab_type": "code",
        "colab": {}
      },
      "source": [
        "gbr_rcv = RandomizedSearchCV(estimator=gbr, param_distributions=param_grid, cv=3, n_jobs=4)\n",
        "gbr_rcv.fit(feat_sample, target_sample)"
      ],
      "execution_count": null,
      "outputs": []
    },
    {
      "cell_type": "code",
      "metadata": {
        "id": "4lHBJhzPbyel",
        "colab_type": "code",
        "colab": {
          "base_uri": "https://localhost:8080/",
          "height": 35
        },
        "outputId": "be6e1997-2df2-4070-b88e-c1819fc3765d"
      },
      "source": [
        "print(\"The R-squared of the model is: \", gbr_rcv.score(feat_valid_p, target_valid))"
      ],
      "execution_count": null,
      "outputs": [
        {
          "output_type": "stream",
          "text": [
            "The R-squared of the model is:  0.7476326625877119\n"
          ],
          "name": "stdout"
        }
      ]
    },
    {
      "cell_type": "code",
      "metadata": {
        "id": "3itvab7raqYj",
        "colab_type": "code",
        "colab": {
          "base_uri": "https://localhost:8080/",
          "height": 175
        },
        "outputId": "6bfae81a-b375-435d-ac71-6eaed5b75dcd"
      },
      "source": [
        "gbr_rcv.best_estimator_"
      ],
      "execution_count": null,
      "outputs": [
        {
          "output_type": "execute_result",
          "data": {
            "text/plain": [
              "GradientBoostingRegressor(alpha=0.9, criterion='friedman_mse', init=None,\n",
              "                          learning_rate=0.1, loss='ls', max_depth=3,\n",
              "                          max_features=None, max_leaf_nodes=None,\n",
              "                          min_impurity_decrease=0.0, min_impurity_split=None,\n",
              "                          min_samples_leaf=1, min_samples_split=2,\n",
              "                          min_weight_fraction_leaf=0.0, n_estimators=300,\n",
              "                          n_iter_no_change=None, presort='auto',\n",
              "                          random_state=999, subsample=1.0, tol=0.0001,\n",
              "                          validation_fraction=0.1, verbose=0, warm_start=False)"
            ]
          },
          "metadata": {
            "tags": []
          },
          "execution_count": 104
        }
      ]
    },
    {
      "cell_type": "code",
      "metadata": {
        "id": "_H070JsEa58K",
        "colab_type": "code",
        "colab": {
          "base_uri": "https://localhost:8080/",
          "height": 35
        },
        "outputId": "78906e15-9ec2-42d6-f57f-935cff75954e"
      },
      "source": [
        "gbr_rcv.best_params_"
      ],
      "execution_count": null,
      "outputs": [
        {
          "output_type": "execute_result",
          "data": {
            "text/plain": [
              "{'learning_rate': 0.1, 'n_estimators': 300}"
            ]
          },
          "metadata": {
            "tags": []
          },
          "execution_count": 105
        }
      ]
    },
    {
      "cell_type": "code",
      "metadata": {
        "id": "-rudr2Q9DuHI",
        "colab_type": "code",
        "colab": {}
      },
      "source": [
        "gbr_best = gbr_rcv.best_estimator_"
      ],
      "execution_count": 117,
      "outputs": []
    },
    {
      "cell_type": "code",
      "metadata": {
        "id": "wsqEqeanDtDM",
        "colab_type": "code",
        "colab": {
          "base_uri": "https://localhost:8080/",
          "height": 35
        },
        "outputId": "bec7a3fc-46d1-4e1d-d87b-bcd321007e97"
      },
      "source": [
        "gbr_best.fit(feat_train_p, target_train)\n",
        "gbr_best.score(feat_valid_p, target_valid)"
      ],
      "execution_count": 118,
      "outputs": [
        {
          "output_type": "execute_result",
          "data": {
            "text/plain": [
              "0.7610792967823938"
            ]
          },
          "metadata": {
            "tags": []
          },
          "execution_count": 118
        }
      ]
    },
    {
      "cell_type": "code",
      "metadata": {
        "id": "7Iy1Bhvda_7q",
        "colab_type": "code",
        "colab": {
          "base_uri": "https://localhost:8080/",
          "height": 52
        },
        "outputId": "f035e886-c09d-4bc4-939b-1e202667881b"
      },
      "source": [
        "##Predict the salaries using Gradient Boosting Regressor with the chosen best parameters\n",
        "pred_salary_gbr = gbr_best.predict(feat_valid_p)\n",
        "print(\"First 5 predicted salaries on validation data: \", pred_salary_gbr[0:5])\n",
        "print(\"First 5 actual values of salaries in the validation data: \", target_valid[0:5].values)"
      ],
      "execution_count": 119,
      "outputs": [
        {
          "output_type": "stream",
          "text": [
            "First 5 predicted salaries on validation data:  [130.30852731 121.79963446 186.377158   105.50865949  64.96081797]\n",
            "First 5 actual values of salaries in the validation data:  [118 134 170  99  59]\n"
          ],
          "name": "stdout"
        }
      ]
    },
    {
      "cell_type": "code",
      "metadata": {
        "id": "EKsXh2IObq7j",
        "colab_type": "code",
        "colab": {
          "base_uri": "https://localhost:8080/",
          "height": 513
        },
        "outputId": "48e7f6ae-25e5-4ba2-a793-2c203a5738b1"
      },
      "source": [
        "##Comparing actual and predicted values with distribution plot\n",
        "Title = \"Distribution plot of Actual values vs Predicted values\"\n",
        "DistributionPlot(target_valid, pred_salary_gbr, \"Actual Values (Validation data)\",\n",
        "                 \"Predicted Values (Validation data)\", Title)"
      ],
      "execution_count": 120,
      "outputs": [
        {
          "output_type": "display_data",
          "data": {
            "image/png": "[encoded data removed]",
            "text/plain": [
              "<Figure size 720x576 with 1 Axes>"
            ]
          },
          "metadata": {
            "tags": [],
            "needs_background": "light"
          }
        }
      ]
    },
    {
      "cell_type": "code",
      "metadata": {
        "id": "rmqelp8ecQao",
        "colab_type": "code",
        "colab": {
          "base_uri": "https://localhost:8080/",
          "height": 70
        },
        "outputId": "159d7be2-28b3-460d-b593-27661ce93320"
      },
      "source": [
        "##Evaluation of the Gradient Boosting Regressor model\n",
        "print(\"Mean squared error of the Gradient Boosting Regressor on the training data is: \", mean_squared_error(target_train, gbr_best.predict(feat_train_p))) \n",
        "print(\"Mean squared error of the Gradient Boosting Regressor on the validation is: \", mean_squared_error(target_valid, pred_salary_gbr))\n",
        "print(\"Validation Data R-square is: \", round(r2_score(target_valid,pred_salary_gbr),3))"
      ],
      "execution_count": 121,
      "outputs": [
        {
          "output_type": "stream",
          "text": [
            "Mean squared error of the Gradient Boosting Regressor on the training data is:  356.621733332144\n",
            "Mean squared error of the Gradient Boosting Regressor on the validation is:  357.2409261342905\n",
            "Validation Data R-square is:  0.761\n"
          ],
          "name": "stdout"
        }
      ]
    },
    {
      "cell_type": "markdown",
      "metadata": {
        "id": "IDbR5uG9LhcN",
        "colab_type": "text"
      },
      "source": [
        "Gradient Boosting regressor performed better than the baseline model yet it could not outperform polynomial transformation."
      ]
    },
    {
      "cell_type": "markdown",
      "metadata": {
        "id": "3UniRf68ZmU3",
        "colab_type": "text"
      },
      "source": [
        "**Select the Best Model**\n"
      ]
    },
    {
      "cell_type": "code",
      "metadata": {
        "id": "dJuRYxTIZp9w",
        "colab_type": "code",
        "colab": {
          "base_uri": "https://localhost:8080/",
          "height": 105
        },
        "outputId": "61d98aae-87a2-4ddf-d634-0fcf112ff61d"
      },
      "source": [
        "#select the model with the lowest error as your \"prodcuction\" model\n",
        "print(\"MSE for Linear Regression: \", mean_squared_error(target_valid, pred_salary_lr).round())\n",
        "print(\"MSE for Polynomial Regressor: \", mean_squared_error(target_valid, pred_salary_plr).round())\n",
        "print(\"MSE for Ridge Regressor: \", mean_squared_error(target_valid, pred_salary_rrg).round())\n",
        "print(\"MSE for Random Forest: \", mean_squared_error(target_valid, pred_salary_rf).round())\n",
        "print(\"MSE for Gradient Boosting Regressor: \", mean_squared_error(target_valid, pred_salary_gbr).round())"
      ],
      "execution_count": 122,
      "outputs": [
        {
          "output_type": "stream",
          "text": [
            "MSE for Linear Regression:  384.0\n",
            "MSE for Polynomial Regressor:  353.0\n",
            "MSE for Ridge Regressor:  353.0\n",
            "MSE for Random Forest:  405.0\n",
            "MSE for Gradient Boosting Regressor:  357.0\n"
          ],
          "name": "stdout"
        }
      ]
    },
    {
      "cell_type": "markdown",
      "metadata": {
        "id": "ToeY3N9LdVvN",
        "colab_type": "text"
      },
      "source": [
        "The ideal model for this dataset would be to choose polynomial regression.\n",
        "\n",
        "Although Ridge ression used the features transformed to 2nd order for training, it didnot show any significant improvement in the MSE and the accuracy over polynomial regression."
      ]
    },
    {
      "cell_type": "markdown",
      "metadata": {
        "id": "zvD029dSdimU",
        "colab_type": "text"
      },
      "source": [
        "##**Automate and Deploy Model**"
      ]
    },
    {
      "cell_type": "markdown",
      "metadata": {
        "id": "iP4-noCVdppw",
        "colab_type": "text"
      },
      "source": [
        "**Automate Pipeline**"
      ]
    },
    {
      "cell_type": "markdown",
      "metadata": {
        "id": "0hJOY_kQoO-f",
        "colab_type": "text"
      },
      "source": [
        "To deploy the selected model, an data piepline is created to automate the needed transformations for any given data as input."
      ]
    },
    {
      "cell_type": "code",
      "metadata": {
        "id": "2aiT35kqdVTN",
        "colab_type": "code",
        "colab": {
          "base_uri": "https://localhost:8080/",
          "height": 193
        },
        "outputId": "2c886f6a-0ee5-4dd1-b5a9-c951294b4003"
      },
      "source": [
        "#Pipeline\n",
        "input = [('scale', StandardScaler()), ('transformation', PolynomialFeatures(include_bias = False)),\n",
        "         ('model', LinearRegression())] #We do not need a bias column where all polynomial powers are 0\n",
        "pipe = Pipeline(input)\n",
        "pipe"
      ],
      "execution_count": null,
      "outputs": [
        {
          "output_type": "execute_result",
          "data": {
            "text/plain": [
              "Pipeline(memory=None,\n",
              "         steps=[('scale',\n",
              "                 StandardScaler(copy=True, with_mean=True, with_std=True)),\n",
              "                ('transformation',\n",
              "                 PolynomialFeatures(degree=2, include_bias=False,\n",
              "                                    interaction_only=False, order='C')),\n",
              "                ('model',\n",
              "                 LinearRegression(copy_X=True, fit_intercept=True, n_jobs=None,\n",
              "                                  normalize=False))],\n",
              "         verbose=False)"
            ]
          },
          "metadata": {
            "tags": []
          },
          "execution_count": 14
        }
      ]
    },
    {
      "cell_type": "code",
      "metadata": {
        "id": "4TPs0g62y0tx",
        "colab_type": "code",
        "colab": {}
      },
      "source": [
        "#Fit pipeline to the data\n",
        "PolyR_model = pipe.fit(features, target)"
      ],
      "execution_count": null,
      "outputs": []
    },
    {
      "cell_type": "markdown",
      "metadata": {
        "id": "Z4FTWG-v0CjX",
        "colab_type": "text"
      },
      "source": [
        "The pipeline will normalize, transform and produce predictions."
      ]
    },
    {
      "cell_type": "code",
      "metadata": {
        "id": "PZdAxK0yz_c_",
        "colab_type": "code",
        "colab": {
          "base_uri": "https://localhost:8080/",
          "height": 52
        },
        "outputId": "0ae518c2-0f34-4db1-8c73-e0f59576638a"
      },
      "source": [
        "pred_pipe = pipe.predict(features)\n",
        "pred_pipe[0:5]"
      ],
      "execution_count": null,
      "outputs": [
        {
          "output_type": "execute_result",
          "data": {
            "text/plain": [
              "array([126.9453125 , 116.66015625, 134.9140625 , 120.80078125,\n",
              "       142.64453125])"
            ]
          },
          "metadata": {
            "tags": []
          },
          "execution_count": 16
        }
      ]
    },
    {
      "cell_type": "markdown",
      "metadata": {
        "id": "8-LzPfUy2KTf",
        "colab_type": "text"
      },
      "source": [
        "The model will be saved and can be used whenever required."
      ]
    },
    {
      "cell_type": "code",
      "metadata": {
        "id": "tV9HwjB21Qkw",
        "colab_type": "code",
        "colab": {
          "base_uri": "https://localhost:8080/",
          "height": 35
        },
        "outputId": "a1424a08-b9df-4b6f-ac1f-27b7ab5e045f"
      },
      "source": [
        "filename = \"Salary_Prediction_Model.csv\"\n",
        "joblib.dump(PolyR_model, filename)"
      ],
      "execution_count": null,
      "outputs": [
        {
          "output_type": "execute_result",
          "data": {
            "text/plain": [
              "['Salary_Prediction_Model.csv']"
            ]
          },
          "metadata": {
            "tags": []
          },
          "execution_count": 30
        }
      ]
    },
    {
      "cell_type": "markdown",
      "metadata": {
        "id": "uRIp3jB723v4",
        "colab_type": "text"
      },
      "source": [
        "We can test our model by loading it to a variable and using it as required"
      ]
    },
    {
      "cell_type": "code",
      "metadata": {
        "id": "j6UCrwxQ2myD",
        "colab_type": "code",
        "colab": {
          "base_uri": "https://localhost:8080/",
          "height": 35
        },
        "outputId": "8b80ce08-4bda-4a32-c171-09623dac1386"
      },
      "source": [
        "#Load Model\n",
        "load_model = joblib.load(filename)\n",
        "\n",
        "#Model Result\n",
        "result = load_model.score(feat_valid, target_valid)\n",
        "print(result)"
      ],
      "execution_count": null,
      "outputs": [
        {
          "output_type": "stream",
          "text": [
            "0.7637780883377557\n"
          ],
          "name": "stdout"
        }
      ]
    },
    {
      "cell_type": "markdown",
      "metadata": {
        "id": "KwbaShjN3mMW",
        "colab_type": "text"
      },
      "source": [
        "**Deploy Solution**"
      ]
    },
    {
      "cell_type": "code",
      "metadata": {
        "id": "kPGyrU6g2yNo",
        "colab_type": "code",
        "colab": {
          "base_uri": "https://localhost:8080/",
          "height": 175
        },
        "outputId": "7df46e1c-eb57-4cfe-e332-c9c6ccd743e5"
      },
      "source": [
        "# Load new data into dataframe\n",
        "test_features_df = pd.DataFrame(test_feature_df)\n",
        "\n",
        "#convert data types of the categorical columns of the test data to 'category'- \n",
        "test_features_df[['jobId', 'companyId', 'jobType', 'degree', 'major','industry']] = test_features_df[['jobId', 'companyId', 'jobType', 'degree', 'major', 'industry']].astype('category')\n",
        "print(test_features_df.dtypes)\n",
        "\n",
        "# Drop features not relevant to salary prediction\n",
        "test_features_df.drop('jobId', axis=1, inplace=True)\n",
        "test_features_df.drop('companyId', axis=1, inplace=True)"
      ],
      "execution_count": null,
      "outputs": [
        {
          "output_type": "stream",
          "text": [
            "jobId                  category\n",
            "companyId              category\n",
            "jobType                category\n",
            "degree                 category\n",
            "major                  category\n",
            "industry               category\n",
            "yearsExperience           int64\n",
            "milesFromMetropolis       int64\n",
            "dtype: object\n"
          ],
          "name": "stdout"
        }
      ]
    },
    {
      "cell_type": "code",
      "metadata": {
        "id": "6dCntRf285s_",
        "colab_type": "code",
        "colab": {
          "base_uri": "https://localhost:8080/",
          "height": 223
        },
        "outputId": "a3d97f3a-b22a-4f77-dac7-ccd2d8c7aaca"
      },
      "source": [
        "# One-hot encode categorical data\n",
        "categorical_columns = ['jobType', 'degree', 'major', 'industry']\n",
        "numerical_columns = ['yearsExperience', 'milesFromMetropolis']\n",
        "test_features_df = one_hot_encoding(test_features_df,\n",
        "                                    categorical_columns, numerical_columns)\n",
        "\n",
        "# View top 5 rows of data\n",
        "test_features_df.head(5)"
      ],
      "execution_count": null,
      "outputs": [
        {
          "output_type": "execute_result",
          "data": {
            "text/html": [
              "<div>\n",
              "<style scoped>\n",
              "    .dataframe tbody tr th:only-of-type {\n",
              "        vertical-align: middle;\n",
              "    }\n",
              "\n",
              "    .dataframe tbody tr th {\n",
              "        vertical-align: top;\n",
              "    }\n",
              "\n",
              "    .dataframe thead th {\n",
              "        text-align: right;\n",
              "    }\n",
              "</style>\n",
              "<table border=\"1\" class=\"dataframe\">\n",
              "  <thead>\n",
              "    <tr style=\"text-align: right;\">\n",
              "      <th></th>\n",
              "      <th>jobType_CEO</th>\n",
              "      <th>jobType_CFO</th>\n",
              "      <th>jobType_CTO</th>\n",
              "      <th>jobType_JANITOR</th>\n",
              "      <th>jobType_JUNIOR</th>\n",
              "      <th>jobType_MANAGER</th>\n",
              "      <th>jobType_SENIOR</th>\n",
              "      <th>jobType_VICE_PRESIDENT</th>\n",
              "      <th>degree_BACHELORS</th>\n",
              "      <th>degree_DOCTORAL</th>\n",
              "      <th>degree_HIGH_SCHOOL</th>\n",
              "      <th>degree_MASTERS</th>\n",
              "      <th>degree_NONE</th>\n",
              "      <th>major_BIOLOGY</th>\n",
              "      <th>major_BUSINESS</th>\n",
              "      <th>major_CHEMISTRY</th>\n",
              "      <th>major_COMPSCI</th>\n",
              "      <th>major_ENGINEERING</th>\n",
              "      <th>major_LITERATURE</th>\n",
              "      <th>major_MATH</th>\n",
              "      <th>major_NONE</th>\n",
              "      <th>major_PHYSICS</th>\n",
              "      <th>industry_AUTO</th>\n",
              "      <th>industry_EDUCATION</th>\n",
              "      <th>industry_FINANCE</th>\n",
              "      <th>industry_HEALTH</th>\n",
              "      <th>industry_OIL</th>\n",
              "      <th>industry_SERVICE</th>\n",
              "      <th>industry_WEB</th>\n",
              "      <th>yearsExperience</th>\n",
              "      <th>milesFromMetropolis</th>\n",
              "    </tr>\n",
              "  </thead>\n",
              "  <tbody>\n",
              "    <tr>\n",
              "      <th>0</th>\n",
              "      <td>0</td>\n",
              "      <td>0</td>\n",
              "      <td>0</td>\n",
              "      <td>0</td>\n",
              "      <td>0</td>\n",
              "      <td>1</td>\n",
              "      <td>0</td>\n",
              "      <td>0</td>\n",
              "      <td>0</td>\n",
              "      <td>0</td>\n",
              "      <td>1</td>\n",
              "      <td>0</td>\n",
              "      <td>0</td>\n",
              "      <td>0</td>\n",
              "      <td>0</td>\n",
              "      <td>0</td>\n",
              "      <td>0</td>\n",
              "      <td>0</td>\n",
              "      <td>0</td>\n",
              "      <td>0</td>\n",
              "      <td>1</td>\n",
              "      <td>0</td>\n",
              "      <td>0</td>\n",
              "      <td>0</td>\n",
              "      <td>0</td>\n",
              "      <td>1</td>\n",
              "      <td>0</td>\n",
              "      <td>0</td>\n",
              "      <td>0</td>\n",
              "      <td>22</td>\n",
              "      <td>73</td>\n",
              "    </tr>\n",
              "    <tr>\n",
              "      <th>1</th>\n",
              "      <td>0</td>\n",
              "      <td>0</td>\n",
              "      <td>0</td>\n",
              "      <td>0</td>\n",
              "      <td>1</td>\n",
              "      <td>0</td>\n",
              "      <td>0</td>\n",
              "      <td>0</td>\n",
              "      <td>0</td>\n",
              "      <td>0</td>\n",
              "      <td>0</td>\n",
              "      <td>0</td>\n",
              "      <td>1</td>\n",
              "      <td>0</td>\n",
              "      <td>0</td>\n",
              "      <td>0</td>\n",
              "      <td>0</td>\n",
              "      <td>0</td>\n",
              "      <td>0</td>\n",
              "      <td>0</td>\n",
              "      <td>1</td>\n",
              "      <td>0</td>\n",
              "      <td>1</td>\n",
              "      <td>0</td>\n",
              "      <td>0</td>\n",
              "      <td>0</td>\n",
              "      <td>0</td>\n",
              "      <td>0</td>\n",
              "      <td>0</td>\n",
              "      <td>20</td>\n",
              "      <td>47</td>\n",
              "    </tr>\n",
              "    <tr>\n",
              "      <th>2</th>\n",
              "      <td>0</td>\n",
              "      <td>0</td>\n",
              "      <td>1</td>\n",
              "      <td>0</td>\n",
              "      <td>0</td>\n",
              "      <td>0</td>\n",
              "      <td>0</td>\n",
              "      <td>0</td>\n",
              "      <td>0</td>\n",
              "      <td>0</td>\n",
              "      <td>0</td>\n",
              "      <td>1</td>\n",
              "      <td>0</td>\n",
              "      <td>1</td>\n",
              "      <td>0</td>\n",
              "      <td>0</td>\n",
              "      <td>0</td>\n",
              "      <td>0</td>\n",
              "      <td>0</td>\n",
              "      <td>0</td>\n",
              "      <td>0</td>\n",
              "      <td>0</td>\n",
              "      <td>0</td>\n",
              "      <td>0</td>\n",
              "      <td>0</td>\n",
              "      <td>1</td>\n",
              "      <td>0</td>\n",
              "      <td>0</td>\n",
              "      <td>0</td>\n",
              "      <td>17</td>\n",
              "      <td>9</td>\n",
              "    </tr>\n",
              "    <tr>\n",
              "      <th>3</th>\n",
              "      <td>0</td>\n",
              "      <td>0</td>\n",
              "      <td>0</td>\n",
              "      <td>0</td>\n",
              "      <td>0</td>\n",
              "      <td>1</td>\n",
              "      <td>0</td>\n",
              "      <td>0</td>\n",
              "      <td>0</td>\n",
              "      <td>0</td>\n",
              "      <td>1</td>\n",
              "      <td>0</td>\n",
              "      <td>0</td>\n",
              "      <td>0</td>\n",
              "      <td>0</td>\n",
              "      <td>0</td>\n",
              "      <td>0</td>\n",
              "      <td>0</td>\n",
              "      <td>0</td>\n",
              "      <td>0</td>\n",
              "      <td>1</td>\n",
              "      <td>0</td>\n",
              "      <td>0</td>\n",
              "      <td>0</td>\n",
              "      <td>0</td>\n",
              "      <td>0</td>\n",
              "      <td>1</td>\n",
              "      <td>0</td>\n",
              "      <td>0</td>\n",
              "      <td>14</td>\n",
              "      <td>96</td>\n",
              "    </tr>\n",
              "    <tr>\n",
              "      <th>4</th>\n",
              "      <td>0</td>\n",
              "      <td>0</td>\n",
              "      <td>0</td>\n",
              "      <td>0</td>\n",
              "      <td>1</td>\n",
              "      <td>0</td>\n",
              "      <td>0</td>\n",
              "      <td>0</td>\n",
              "      <td>0</td>\n",
              "      <td>1</td>\n",
              "      <td>0</td>\n",
              "      <td>0</td>\n",
              "      <td>0</td>\n",
              "      <td>1</td>\n",
              "      <td>0</td>\n",
              "      <td>0</td>\n",
              "      <td>0</td>\n",
              "      <td>0</td>\n",
              "      <td>0</td>\n",
              "      <td>0</td>\n",
              "      <td>0</td>\n",
              "      <td>0</td>\n",
              "      <td>0</td>\n",
              "      <td>0</td>\n",
              "      <td>0</td>\n",
              "      <td>0</td>\n",
              "      <td>1</td>\n",
              "      <td>0</td>\n",
              "      <td>0</td>\n",
              "      <td>10</td>\n",
              "      <td>44</td>\n",
              "    </tr>\n",
              "  </tbody>\n",
              "</table>\n",
              "</div>"
            ],
            "text/plain": [
              "   jobType_CEO  jobType_CFO  ...  yearsExperience  milesFromMetropolis\n",
              "0            0            0  ...               22                   73\n",
              "1            0            0  ...               20                   47\n",
              "2            0            0  ...               17                    9\n",
              "3            0            0  ...               14                   96\n",
              "4            0            0  ...               10                   44\n",
              "\n",
              "[5 rows x 31 columns]"
            ]
          },
          "metadata": {
            "tags": []
          },
          "execution_count": 37
        }
      ]
    },
    {
      "cell_type": "code",
      "metadata": {
        "id": "EZ6C4Al24rut",
        "colab_type": "code",
        "colab": {
          "base_uri": "https://localhost:8080/",
          "height": 580
        },
        "outputId": "361ce9f4-8d80-4662-ca71-96d58579637f"
      },
      "source": [
        "##Check for null values\n",
        "test_features_df.isnull().sum()"
      ],
      "execution_count": null,
      "outputs": [
        {
          "output_type": "execute_result",
          "data": {
            "text/plain": [
              "jobType_CEO               0\n",
              "jobType_CFO               0\n",
              "jobType_CTO               0\n",
              "jobType_JANITOR           0\n",
              "jobType_JUNIOR            0\n",
              "jobType_MANAGER           0\n",
              "jobType_SENIOR            0\n",
              "jobType_VICE_PRESIDENT    0\n",
              "degree_BACHELORS          0\n",
              "degree_DOCTORAL           0\n",
              "degree_HIGH_SCHOOL        0\n",
              "degree_MASTERS            0\n",
              "degree_NONE               0\n",
              "major_BIOLOGY             0\n",
              "major_BUSINESS            0\n",
              "major_CHEMISTRY           0\n",
              "major_COMPSCI             0\n",
              "major_ENGINEERING         0\n",
              "major_LITERATURE          0\n",
              "major_MATH                0\n",
              "major_NONE                0\n",
              "major_PHYSICS             0\n",
              "industry_AUTO             0\n",
              "industry_EDUCATION        0\n",
              "industry_FINANCE          0\n",
              "industry_HEALTH           0\n",
              "industry_OIL              0\n",
              "industry_SERVICE          0\n",
              "industry_WEB              0\n",
              "yearsExperience           0\n",
              "milesFromMetropolis       0\n",
              "dtype: int64"
            ]
          },
          "metadata": {
            "tags": []
          },
          "execution_count": 38
        }
      ]
    },
    {
      "cell_type": "markdown",
      "metadata": {
        "id": "4IIn8S-M4-1c",
        "colab_type": "text"
      },
      "source": [
        "The cleaned test data can now be used to predict salaries using linear regression."
      ]
    },
    {
      "cell_type": "code",
      "metadata": {
        "id": "gBZpPhhf40aU",
        "colab_type": "code",
        "colab": {
          "base_uri": "https://localhost:8080/",
          "height": 52
        },
        "outputId": "5ee46db4-27a8-4171-f001-76eb85b3692a"
      },
      "source": [
        "salary_predictions = load_model.predict(test_features_df)\n",
        "#View the top five predictions\n",
        "salary_predictions[0:5]"
      ],
      "execution_count": null,
      "outputs": [
        {
          "output_type": "execute_result",
          "data": {
            "text/plain": [
              "array([111.265625  ,  92.890625  , 183.20703125, 103.88671875,\n",
              "       116.3203125 ])"
            ]
          },
          "metadata": {
            "tags": []
          },
          "execution_count": 39
        }
      ]
    },
    {
      "cell_type": "markdown",
      "metadata": {
        "id": "UlJ_Ig-591dV",
        "colab_type": "text"
      },
      "source": [
        "Plotting Feature Importance"
      ]
    },
    {
      "cell_type": "code",
      "metadata": {
        "id": "Jsn_LckH5bdp",
        "colab_type": "code",
        "colab": {
          "base_uri": "https://localhost:8080/",
          "height": 1000
        },
        "outputId": "e88505b1-3421-4497-d72e-bec11c0edf67"
      },
      "source": [
        "target = train_target_df.salary\n",
        "\n",
        "print(\"feature importance plotting...\")\n",
        "rf_best.fit(test_features_df, target)\n",
        "feature_importances = pd.Series(rf_best.feature_importances_, index=test_features_df.columns)\n",
        "print(feature_importances)\n",
        "feature_importances.sort_values(inplace=True)\n",
        "feature_importances.plot(kind='barh', figsize=(25,24))"
      ],
      "execution_count": null,
      "outputs": [
        {
          "output_type": "stream",
          "text": [
            "feature importance plotting...\n",
            "jobType_CEO               0.004444\n",
            "jobType_CFO               0.004335\n",
            "jobType_CTO               0.004125\n",
            "jobType_JANITOR           0.001242\n",
            "jobType_JUNIOR            0.004219\n",
            "jobType_MANAGER           0.004074\n",
            "jobType_SENIOR            0.004480\n",
            "jobType_VICE_PRESIDENT    0.004454\n",
            "degree_BACHELORS          0.004462\n",
            "degree_DOCTORAL           0.003931\n",
            "degree_HIGH_SCHOOL        0.002225\n",
            "degree_MASTERS            0.004189\n",
            "degree_NONE               0.002190\n",
            "major_BIOLOGY             0.003600\n",
            "major_BUSINESS            0.003400\n",
            "major_CHEMISTRY           0.003449\n",
            "major_COMPSCI             0.003490\n",
            "major_ENGINEERING         0.003516\n",
            "major_LITERATURE          0.003575\n",
            "major_MATH                0.003430\n",
            "major_NONE                0.003883\n",
            "major_PHYSICS             0.003332\n",
            "industry_AUTO             0.004297\n",
            "industry_EDUCATION        0.004203\n",
            "industry_FINANCE          0.004209\n",
            "industry_HEALTH           0.004167\n",
            "industry_OIL              0.004345\n",
            "industry_SERVICE          0.004172\n",
            "industry_WEB              0.004146\n",
            "yearsExperience           0.284855\n",
            "milesFromMetropolis       0.605562\n",
            "dtype: float64\n"
          ],
          "name": "stdout"
        },
        {
          "output_type": "execute_result",
          "data": {
            "text/plain": [
              "<matplotlib.axes._subplots.AxesSubplot at 0x7f33a33050f0>"
            ]
          },
          "metadata": {
            "tags": []
          },
          "execution_count": 41
        },
        {
          "output_type": "display_data",
          "data": {
            "image/png": "[encoded data removed]",
            "text/plain": [
              "<Figure size 1800x1728 with 1 Axes>"
            ]
          },
          "metadata": {
            "tags": []
          }
        }
      ]
    },
    {
      "cell_type": "markdown",
      "metadata": {
        "id": "bajVLxXz-kAH",
        "colab_type": "text"
      },
      "source": [
        "The developed model suggests that milesFromMetropolis and yearsExperience are the most important features."
      ]
    },
    {
      "cell_type": "markdown",
      "metadata": {
        "id": "8cmLa2VYfcv3",
        "colab_type": "text"
      },
      "source": [
        "## *Ensemble Modelling*"
      ]
    },
    {
      "cell_type": "code",
      "metadata": {
        "id": "mZoHQbEJfi10",
        "colab_type": "code",
        "colab": {
          "base_uri": "https://localhost:8080/",
          "height": 87
        },
        "outputId": "296ee001-dd3d-4b00-d7ef-47dee472251b"
      },
      "source": [
        "votingR = VotingRegressor(estimators = [('rrg', rrg), ('gbr', gbr_best)], n_jobs = 4)\n",
        "votingR = votingR.fit(feat_train_p[0:50000], target_train[0:50000])\n",
        "votingR_pred = votingR.predict(feat_valid_p)\n",
        "print(\"First 5 actual values of salaries in the validation data: \", target_valid[0:5].values)\n",
        "print(\"First 5 predicted salaries on validation data: \", votingR_pred[0:5])\n",
        "print(\"Mean squared error of the ensemble on the validation data is: \", mean_squared_error(target_valid, votingR_pred))\n",
        "print(\"Validation Data R-square is: \", round(r2_score(target_valid, votingR_pred),3))"
      ],
      "execution_count": 177,
      "outputs": [
        {
          "output_type": "stream",
          "text": [
            "First 5 actual values of salaries in the validation data:  [118 134 170  99  59]\n",
            "First 5 predicted salaries on validation data:  [130.47256599 125.86387444 183.03824632 108.27984     64.30520453]\n",
            "Mean squared error of the ensemble on the validation data is:  357.40767250615914\n",
            "Validation Data R-square is:  0.761\n"
          ],
          "name": "stdout"
        }
      ]
    },
    {
      "cell_type": "markdown",
      "metadata": {
        "id": "DGofK6_cfk0u",
        "colab_type": "text"
      },
      "source": [
        "There is no significant improvement in terms of MSE and R-squared in ensemble modeling."
      ]
    },
    {
      "cell_type": "markdown",
      "metadata": {
        "id": "-4ELa_5Y-vC9",
        "colab_type": "text"
      },
      "source": [
        "##**Summary**"
      ]
    },
    {
      "cell_type": "markdown",
      "metadata": {
        "id": "0HtCedXZ-0Fk",
        "colab_type": "text"
      },
      "source": [
        "To summarize, the application of a **2nd order polynomial transformation** on a **linear regression** gave the least **MSE** of **353** and most **accuracy** of **76.4%**. \n",
        "\n",
        "This model can provide the most accurate results when supplied with information on yearsExperience, milesFromMetropolis, jobType, degree and major."
      ]
    }
  ]
}